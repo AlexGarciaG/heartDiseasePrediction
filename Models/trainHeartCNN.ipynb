{
 "cells": [
  {
   "cell_type": "markdown",
   "metadata": {},
   "source": [
    "# Library"
   ]
  },
  {
   "cell_type": "code",
   "execution_count": 1,
   "metadata": {},
   "outputs": [],
   "source": [
    "import numpy as np\n",
    "import pandas as pd\n",
    "from matplotlib import pyplot as plt"
   ]
  },
  {
   "cell_type": "markdown",
   "metadata": {},
   "source": [
    "# Load data"
   ]
  },
  {
   "cell_type": "code",
   "execution_count": 2,
   "metadata": {},
   "outputs": [
    {
     "name": "stdout",
     "output_type": "stream",
     "text": [
      "<class 'pandas.core.frame.DataFrame'>\n",
      "RangeIndex: 319795 entries, 0 to 319794\n",
      "Data columns (total 26 columns):\n",
      " #   Column                          Non-Null Count   Dtype  \n",
      "---  ------                          --------------   -----  \n",
      " 0   HeartDisease                    319795 non-null  int64  \n",
      " 1   BMI                             319795 non-null  float64\n",
      " 2   Smoking                         319795 non-null  int64  \n",
      " 3   AlcoholDrinking                 319795 non-null  int64  \n",
      " 4   Stroke                          319795 non-null  int64  \n",
      " 5   PhysicalHealth                  319795 non-null  float64\n",
      " 6   MentalHealth                    319795 non-null  float64\n",
      " 7   DiffWalking                     319795 non-null  int64  \n",
      " 8   AgeCategory                     319795 non-null  int64  \n",
      " 9   PhysicalActivity                319795 non-null  int64  \n",
      " 10  GenHealth                       319795 non-null  int64  \n",
      " 11  SleepTime                       319795 non-null  float64\n",
      " 12  Asthma                          319795 non-null  int64  \n",
      " 13  KidneyDisease                   319795 non-null  int64  \n",
      " 14  SkinCancer                      319795 non-null  int64  \n",
      " 15  General Diabetic                319795 non-null  float64\n",
      " 16  Borderline Diabetic             319795 non-null  float64\n",
      " 17  Pregnancy Diabetic              319795 non-null  float64\n",
      " 18  Female                          319795 non-null  int64  \n",
      " 19  Male                            319795 non-null  int64  \n",
      " 20  White                           319795 non-null  float64\n",
      " 21  Black                           319795 non-null  float64\n",
      " 22  Asian                           319795 non-null  float64\n",
      " 23  American Indian/Alaskan Native  319795 non-null  float64\n",
      " 24  Other                           319795 non-null  float64\n",
      " 25  Hispanic                        319795 non-null  float64\n",
      "dtypes: float64(13), int64(13)\n",
      "memory usage: 63.4 MB\n"
     ]
    }
   ],
   "source": [
    "df = pd.read_csv(\"./Data/heart_clean_data.csv\")\n",
    "df.head(-5)\n",
    "df.info()"
   ]
  },
  {
   "cell_type": "markdown",
   "metadata": {},
   "source": [
    "# Transform data"
   ]
  },
  {
   "cell_type": "code",
   "execution_count": 3,
   "metadata": {},
   "outputs": [
    {
     "name": "stdout",
     "output_type": "stream",
     "text": [
      "319795 26\n"
     ]
    }
   ],
   "source": [
    "data = np.array(df)\n",
    "m, n = data.shape\n",
    "np.random.shuffle(data) # shuffle before splitting into dev and training sets\n",
    "print(m,n)"
   ]
  },
  {
   "cell_type": "markdown",
   "metadata": {},
   "source": [
    "# Split data"
   ]
  },
  {
   "cell_type": "code",
   "execution_count": 4,
   "metadata": {},
   "outputs": [],
   "source": [
    "data_test = data[0:int(m*.1)].T\n",
    "Y_test = data_test[0]\n",
    "X_test = data_test[1:n]\n",
    "Y_test = Y_test.astype(int)\n",
    "\n",
    "data_train = data[int(m*.1):m].T\n",
    "Y_train = data_train[0]\n",
    "X_train = data_train[1:n]\n",
    "Y_train = Y_train.astype(int)\n"
   ]
  },
  {
   "cell_type": "markdown",
   "metadata": {},
   "source": [
    "# My CNN"
   ]
  },
  {
   "cell_type": "markdown",
   "metadata": {},
   "source": [
    "## Model"
   ]
  },
  {
   "cell_type": "code",
   "execution_count": 5,
   "metadata": {},
   "outputs": [],
   "source": [
    "from Class.cnn import cnn"
   ]
  },
  {
   "cell_type": "markdown",
   "metadata": {},
   "source": [
    "### Define model"
   ]
  },
  {
   "cell_type": "code",
   "execution_count": 6,
   "metadata": {},
   "outputs": [],
   "source": [
    "mycnn = cnn (inputLayer = n-1)"
   ]
  },
  {
   "cell_type": "code",
   "execution_count": 7,
   "metadata": {},
   "outputs": [],
   "source": [
    "mycnn.addLayer(neurons=5)\n",
    "mycnn.addLayer(neurons=2)"
   ]
  },
  {
   "cell_type": "markdown",
   "metadata": {},
   "source": [
    "### Train"
   ]
  },
  {
   "cell_type": "code",
   "execution_count": 8,
   "metadata": {},
   "outputs": [
    {
     "name": "stdout",
     "output_type": "stream",
     "text": [
      "Final accuracy: \n",
      "0.9141695684736366\n"
     ]
    },
    {
     "data": {
      "image/png": "[encoded data removed]",
      "text/plain": [
       "<Figure size 432x288 with 1 Axes>"
      ]
     },
     "metadata": {
      "needs_background": "light"
     },
     "output_type": "display_data"
    }
   ],
   "source": [
    "history = mycnn.fit(X_train, Y_train, 0.010, 300, validationSplit = 0.1)\n",
    "plt.plot(history['train_accuracy'])\n",
    "plt.plot(history['test_accuracy'])\n",
    "plt.title('model accuracy')\n",
    "plt.ylabel('accuracy')\n",
    "plt.xlabel('epoch')\n",
    "plt.legend(['train', 'validation'], loc='upper left')\n",
    "plt.show()"
   ]
  },
  {
   "cell_type": "markdown",
   "metadata": {},
   "source": [
    "### Test"
   ]
  },
  {
   "cell_type": "code",
   "execution_count": 9,
   "metadata": {},
   "outputs": [
    {
     "name": "stdout",
     "output_type": "stream",
     "text": [
      "Prediction:  [0]\n",
      "Label:  0\n",
      "Prediction:  [0]\n",
      "Label:  0\n",
      "Prediction:  [0]\n",
      "Label:  0\n",
      "Prediction:  [0]\n",
      "Label:  0\n"
     ]
    }
   ],
   "source": [
    "mycnn.test_prediction(9,X_train, Y_train)\n",
    "mycnn.test_prediction(10,X_train, Y_train)\n",
    "mycnn.test_prediction(11,X_train, Y_train)\n",
    "mycnn.test_prediction(12,X_train, Y_train)"
   ]
  },
  {
   "cell_type": "markdown",
   "metadata": {},
   "source": [
    "## Test accuracy"
   ]
  },
  {
   "cell_type": "code",
   "execution_count": 10,
   "metadata": {},
   "outputs": [
    {
     "data": {
      "text/plain": [
       "0.9176334469495606"
      ]
     },
     "execution_count": 10,
     "metadata": {},
     "output_type": "execute_result"
    }
   ],
   "source": [
    "prediction = mycnn.make_prediction(X_test)\n",
    "mycnn.get_accuracy(prediction, Y_test)"
   ]
  },
  {
   "cell_type": "markdown",
   "metadata": {},
   "source": [
    "## Save model"
   ]
  },
  {
   "cell_type": "code",
   "execution_count": 11,
   "metadata": {},
   "outputs": [],
   "source": [
    "mycnn.saveModel('Weights/heartCNN')\n"
   ]
  },
  {
   "cell_type": "markdown",
   "metadata": {},
   "source": [
    "### Load model"
   ]
  },
  {
   "cell_type": "code",
   "execution_count": 12,
   "metadata": {},
   "outputs": [],
   "source": [
    "mycnn2 = cnn(loadModel='Weights/heartCNN')"
   ]
  },
  {
   "cell_type": "markdown",
   "metadata": {},
   "source": [
    "### Test load model"
   ]
  },
  {
   "cell_type": "code",
   "execution_count": 13,
   "metadata": {},
   "outputs": [
    {
     "data": {
      "text/plain": [
       "0.9176334469495606"
      ]
     },
     "execution_count": 13,
     "metadata": {},
     "output_type": "execute_result"
    }
   ],
   "source": [
    "prediction = mycnn2.make_prediction(X_test)\n",
    "mycnn2.get_accuracy(prediction, Y_test)"
   ]
  },
  {
   "cell_type": "markdown",
   "metadata": {},
   "source": [
    "# Keras CNN"
   ]
  },
  {
   "cell_type": "markdown",
   "metadata": {},
   "source": [
    "## Prepare data"
   ]
  },
  {
   "cell_type": "code",
   "execution_count": 14,
   "metadata": {},
   "outputs": [
    {
     "data": {
      "text/html": [
       "<div>\n",
       "<style scoped>\n",
       "    .dataframe tbody tr th:only-of-type {\n",
       "        vertical-align: middle;\n",
       "    }\n",
       "\n",
       "    .dataframe tbody tr th {\n",
       "        vertical-align: top;\n",
       "    }\n",
       "\n",
       "    .dataframe thead th {\n",
       "        text-align: right;\n",
       "    }\n",
       "</style>\n",
       "<table border=\"1\" class=\"dataframe\">\n",
       "  <thead>\n",
       "    <tr style=\"text-align: right;\">\n",
       "      <th></th>\n",
       "      <th>0</th>\n",
       "    </tr>\n",
       "  </thead>\n",
       "  <tbody>\n",
       "    <tr>\n",
       "      <th>0</th>\n",
       "      <td>1</td>\n",
       "    </tr>\n",
       "    <tr>\n",
       "      <th>1</th>\n",
       "      <td>0</td>\n",
       "    </tr>\n",
       "    <tr>\n",
       "      <th>2</th>\n",
       "      <td>0</td>\n",
       "    </tr>\n",
       "    <tr>\n",
       "      <th>3</th>\n",
       "      <td>0</td>\n",
       "    </tr>\n",
       "    <tr>\n",
       "      <th>4</th>\n",
       "      <td>1</td>\n",
       "    </tr>\n",
       "    <tr>\n",
       "      <th>...</th>\n",
       "      <td>...</td>\n",
       "    </tr>\n",
       "    <tr>\n",
       "      <th>287811</th>\n",
       "      <td>0</td>\n",
       "    </tr>\n",
       "    <tr>\n",
       "      <th>287812</th>\n",
       "      <td>0</td>\n",
       "    </tr>\n",
       "    <tr>\n",
       "      <th>287813</th>\n",
       "      <td>0</td>\n",
       "    </tr>\n",
       "    <tr>\n",
       "      <th>287814</th>\n",
       "      <td>0</td>\n",
       "    </tr>\n",
       "    <tr>\n",
       "      <th>287815</th>\n",
       "      <td>0</td>\n",
       "    </tr>\n",
       "  </tbody>\n",
       "</table>\n",
       "<p>287816 rows × 1 columns</p>\n",
       "</div>"
      ],
      "text/plain": [
       "        0\n",
       "0       1\n",
       "1       0\n",
       "2       0\n",
       "3       0\n",
       "4       1\n",
       "...    ..\n",
       "287811  0\n",
       "287812  0\n",
       "287813  0\n",
       "287814  0\n",
       "287815  0\n",
       "\n",
       "[287816 rows x 1 columns]"
      ]
     },
     "execution_count": 14,
     "metadata": {},
     "output_type": "execute_result"
    }
   ],
   "source": [
    "x_test = pd.DataFrame(X_test.T)\n",
    "x_test\n",
    "y_test = pd.DataFrame(Y_test.T)\n",
    "y_test\n",
    "x_train = pd.DataFrame(X_train.T)\n",
    "x_train\n",
    "y_train = pd.DataFrame(Y_train.T)\n",
    "y_train\n"
   ]
  },
  {
   "cell_type": "markdown",
   "metadata": {},
   "source": [
    "## Library"
   ]
  },
  {
   "cell_type": "code",
   "execution_count": 15,
   "metadata": {},
   "outputs": [],
   "source": [
    "from tensorflow.keras.models import Sequential, load_model\n",
    "from tensorflow.keras.layers import Dense\n",
    "from sklearn.metrics import accuracy_score"
   ]
  },
  {
   "cell_type": "markdown",
   "metadata": {},
   "source": [
    "## Define model"
   ]
  },
  {
   "cell_type": "code",
   "execution_count": 16,
   "metadata": {},
   "outputs": [],
   "source": [
    "model = Sequential()\n",
    "model.add(Dense(units=5, activation='relu', input_dim=len(x_train.columns)))\n",
    "model.add(Dense(units=2, activation='softmax'))\n",
    "model.compile(loss='sparse_categorical_crossentropy', optimizer='Adam', metrics=['accuracy'])\n"
   ]
  },
  {
   "cell_type": "markdown",
   "metadata": {},
   "source": [
    "## Train model"
   ]
  },
  {
   "cell_type": "code",
   "execution_count": 17,
   "metadata": {},
   "outputs": [
    {
     "name": "stdout",
     "output_type": "stream",
     "text": [
      "Epoch 1/300\n",
      "231/231 [==============================] - 0s 2ms/step - loss: 0.5329 - accuracy: 0.8520 - val_loss: 0.3123 - val_accuracy: 0.9034\n",
      "Epoch 2/300\n",
      "231/231 [==============================] - 0s 867us/step - loss: 0.2939 - accuracy: 0.9077 - val_loss: 0.2891 - val_accuracy: 0.9086\n",
      "Epoch 3/300\n",
      "231/231 [==============================] - 0s 993us/step - loss: 0.2775 - accuracy: 0.9109 - val_loss: 0.2749 - val_accuracy: 0.9108\n",
      "Epoch 4/300\n",
      "231/231 [==============================] - 0s 997us/step - loss: 0.2629 - accuracy: 0.9125 - val_loss: 0.2591 - val_accuracy: 0.9114\n",
      "Epoch 5/300\n",
      "231/231 [==============================] - 0s 907us/step - loss: 0.2462 - accuracy: 0.9131 - val_loss: 0.2410 - val_accuracy: 0.9122\n",
      "Epoch 6/300\n",
      "231/231 [==============================] - 0s 878us/step - loss: 0.2352 - accuracy: 0.9144 - val_loss: 0.2357 - val_accuracy: 0.9133\n",
      "Epoch 7/300\n",
      "231/231 [==============================] - 0s 898us/step - loss: 0.2321 - accuracy: 0.9151 - val_loss: 0.2337 - val_accuracy: 0.9133\n",
      "Epoch 8/300\n",
      "231/231 [==============================] - 0s 1ms/step - loss: 0.2306 - accuracy: 0.9151 - val_loss: 0.2324 - val_accuracy: 0.9141\n",
      "Epoch 9/300\n",
      "231/231 [==============================] - 0s 1ms/step - loss: 0.2299 - accuracy: 0.9156 - val_loss: 0.2317 - val_accuracy: 0.9141\n",
      "Epoch 10/300\n",
      "231/231 [==============================] - 0s 1ms/step - loss: 0.2293 - accuracy: 0.9154 - val_loss: 0.2317 - val_accuracy: 0.9145\n",
      "Epoch 11/300\n",
      "231/231 [==============================] - 0s 1ms/step - loss: 0.2291 - accuracy: 0.9157 - val_loss: 0.2311 - val_accuracy: 0.9144\n",
      "Epoch 12/300\n",
      "231/231 [==============================] - 0s 921us/step - loss: 0.2290 - accuracy: 0.9156 - val_loss: 0.2310 - val_accuracy: 0.9146\n",
      "Epoch 13/300\n",
      "231/231 [==============================] - 0s 885us/step - loss: 0.2288 - accuracy: 0.9158 - val_loss: 0.2305 - val_accuracy: 0.9144\n",
      "Epoch 14/300\n",
      "231/231 [==============================] - 0s 958us/step - loss: 0.2286 - accuracy: 0.9158 - val_loss: 0.2304 - val_accuracy: 0.9140\n",
      "Epoch 15/300\n",
      "231/231 [==============================] - 0s 1ms/step - loss: 0.2285 - accuracy: 0.9155 - val_loss: 0.2301 - val_accuracy: 0.9142\n",
      "Epoch 16/300\n",
      "231/231 [==============================] - 0s 939us/step - loss: 0.2282 - accuracy: 0.9157 - val_loss: 0.2303 - val_accuracy: 0.9137\n",
      "Epoch 17/300\n",
      "231/231 [==============================] - 0s 890us/step - loss: 0.2283 - accuracy: 0.9157 - val_loss: 0.2301 - val_accuracy: 0.9146\n",
      "Epoch 18/300\n",
      "231/231 [==============================] - 0s 889us/step - loss: 0.2284 - accuracy: 0.9156 - val_loss: 0.2300 - val_accuracy: 0.9145\n",
      "Epoch 19/300\n",
      "231/231 [==============================] - 0s 885us/step - loss: 0.2280 - accuracy: 0.9157 - val_loss: 0.2301 - val_accuracy: 0.9137\n",
      "Epoch 20/300\n",
      "231/231 [==============================] - 0s 920us/step - loss: 0.2282 - accuracy: 0.9156 - val_loss: 0.2297 - val_accuracy: 0.9147\n",
      "Epoch 21/300\n",
      "231/231 [==============================] - 0s 868us/step - loss: 0.2279 - accuracy: 0.9157 - val_loss: 0.2296 - val_accuracy: 0.9144\n",
      "Epoch 22/300\n",
      "231/231 [==============================] - 0s 1ms/step - loss: 0.2277 - accuracy: 0.9156 - val_loss: 0.2295 - val_accuracy: 0.9148\n",
      "Epoch 23/300\n",
      "231/231 [==============================] - 0s 890us/step - loss: 0.2280 - accuracy: 0.9157 - val_loss: 0.2294 - val_accuracy: 0.9145\n",
      "Epoch 24/300\n",
      "231/231 [==============================] - 0s 876us/step - loss: 0.2280 - accuracy: 0.9157 - val_loss: 0.2296 - val_accuracy: 0.9146\n",
      "Epoch 25/300\n",
      "231/231 [==============================] - 0s 928us/step - loss: 0.2278 - accuracy: 0.9159 - val_loss: 0.2304 - val_accuracy: 0.9135\n",
      "Epoch 26/300\n",
      "231/231 [==============================] - 0s 888us/step - loss: 0.2281 - accuracy: 0.9156 - val_loss: 0.2309 - val_accuracy: 0.9135\n",
      "Epoch 27/300\n",
      "231/231 [==============================] - 0s 889us/step - loss: 0.2282 - accuracy: 0.9156 - val_loss: 0.2296 - val_accuracy: 0.9144\n",
      "Epoch 28/300\n",
      "231/231 [==============================] - 0s 903us/step - loss: 0.2279 - accuracy: 0.9158 - val_loss: 0.2294 - val_accuracy: 0.9145\n",
      "Epoch 29/300\n",
      "231/231 [==============================] - 0s 1ms/step - loss: 0.2280 - accuracy: 0.9156 - val_loss: 0.2296 - val_accuracy: 0.9152\n",
      "Epoch 30/300\n",
      "231/231 [==============================] - 0s 924us/step - loss: 0.2278 - accuracy: 0.9159 - val_loss: 0.2298 - val_accuracy: 0.9149\n",
      "Epoch 31/300\n",
      "231/231 [==============================] - 0s 1ms/step - loss: 0.2278 - accuracy: 0.9157 - val_loss: 0.2296 - val_accuracy: 0.9148\n",
      "Epoch 32/300\n",
      "231/231 [==============================] - 0s 903us/step - loss: 0.2278 - accuracy: 0.9156 - val_loss: 0.2296 - val_accuracy: 0.9142\n",
      "Epoch 33/300\n",
      "231/231 [==============================] - 0s 868us/step - loss: 0.2278 - accuracy: 0.9156 - val_loss: 0.2294 - val_accuracy: 0.9143\n",
      "Epoch 34/300\n",
      "231/231 [==============================] - 0s 846us/step - loss: 0.2277 - accuracy: 0.9156 - val_loss: 0.2299 - val_accuracy: 0.9138\n",
      "Epoch 35/300\n",
      "231/231 [==============================] - 0s 998us/step - loss: 0.2281 - accuracy: 0.9155 - val_loss: 0.2300 - val_accuracy: 0.9138\n",
      "Epoch 36/300\n",
      "231/231 [==============================] - 0s 974us/step - loss: 0.2280 - accuracy: 0.9156 - val_loss: 0.2294 - val_accuracy: 0.9148\n",
      "Epoch 37/300\n",
      "231/231 [==============================] - 0s 887us/step - loss: 0.2277 - accuracy: 0.9157 - val_loss: 0.2301 - val_accuracy: 0.9152\n",
      "Epoch 38/300\n",
      "231/231 [==============================] - 0s 872us/step - loss: 0.2281 - accuracy: 0.9155 - val_loss: 0.2298 - val_accuracy: 0.9151\n",
      "Epoch 39/300\n",
      "231/231 [==============================] - 0s 984us/step - loss: 0.2277 - accuracy: 0.9158 - val_loss: 0.2294 - val_accuracy: 0.9148\n",
      "Epoch 40/300\n",
      "231/231 [==============================] - 0s 893us/step - loss: 0.2278 - accuracy: 0.9155 - val_loss: 0.2297 - val_accuracy: 0.9143\n",
      "Epoch 41/300\n",
      "231/231 [==============================] - 0s 959us/step - loss: 0.2278 - accuracy: 0.9157 - val_loss: 0.2295 - val_accuracy: 0.9143\n",
      "Epoch 42/300\n",
      "231/231 [==============================] - 0s 901us/step - loss: 0.2280 - accuracy: 0.9156 - val_loss: 0.2294 - val_accuracy: 0.9143\n",
      "Epoch 43/300\n",
      "231/231 [==============================] - 0s 867us/step - loss: 0.2277 - accuracy: 0.9159 - val_loss: 0.2303 - val_accuracy: 0.9137\n",
      "Epoch 44/300\n",
      "231/231 [==============================] - 0s 862us/step - loss: 0.2280 - accuracy: 0.9157 - val_loss: 0.2301 - val_accuracy: 0.9146\n",
      "Epoch 45/300\n",
      "231/231 [==============================] - 0s 851us/step - loss: 0.2281 - accuracy: 0.9155 - val_loss: 0.2298 - val_accuracy: 0.9140\n",
      "Epoch 46/300\n",
      "231/231 [==============================] - 0s 883us/step - loss: 0.2282 - accuracy: 0.9157 - val_loss: 0.2294 - val_accuracy: 0.9150\n",
      "Epoch 47/300\n",
      "231/231 [==============================] - 0s 1ms/step - loss: 0.2278 - accuracy: 0.9157 - val_loss: 0.2296 - val_accuracy: 0.9150\n",
      "Epoch 48/300\n",
      "231/231 [==============================] - 0s 889us/step - loss: 0.2277 - accuracy: 0.9156 - val_loss: 0.2295 - val_accuracy: 0.9141\n",
      "Epoch 49/300\n",
      "231/231 [==============================] - 0s 863us/step - loss: 0.2278 - accuracy: 0.9157 - val_loss: 0.2295 - val_accuracy: 0.9145\n",
      "Epoch 50/300\n",
      "231/231 [==============================] - 0s 846us/step - loss: 0.2277 - accuracy: 0.9156 - val_loss: 0.2296 - val_accuracy: 0.9148\n",
      "Epoch 51/300\n",
      "231/231 [==============================] - 0s 1ms/step - loss: 0.2279 - accuracy: 0.9157 - val_loss: 0.2300 - val_accuracy: 0.9138\n",
      "Epoch 52/300\n",
      "231/231 [==============================] - 0s 971us/step - loss: 0.2278 - accuracy: 0.9158 - val_loss: 0.2294 - val_accuracy: 0.9149\n",
      "Epoch 53/300\n",
      "231/231 [==============================] - 0s 871us/step - loss: 0.2278 - accuracy: 0.9158 - val_loss: 0.2298 - val_accuracy: 0.9152\n",
      "Epoch 54/300\n",
      "231/231 [==============================] - 0s 857us/step - loss: 0.2278 - accuracy: 0.9158 - val_loss: 0.2303 - val_accuracy: 0.9152\n",
      "Epoch 55/300\n",
      "231/231 [==============================] - 0s 880us/step - loss: 0.2280 - accuracy: 0.9157 - val_loss: 0.2295 - val_accuracy: 0.9143\n",
      "Epoch 56/300\n",
      "231/231 [==============================] - 0s 928us/step - loss: 0.2279 - accuracy: 0.9157 - val_loss: 0.2294 - val_accuracy: 0.9146\n",
      "Epoch 57/300\n",
      "231/231 [==============================] - 0s 1ms/step - loss: 0.2281 - accuracy: 0.9155 - val_loss: 0.2298 - val_accuracy: 0.9148\n",
      "Epoch 58/300\n",
      "231/231 [==============================] - 0s 903us/step - loss: 0.2279 - accuracy: 0.9157 - val_loss: 0.2299 - val_accuracy: 0.9150\n",
      "Epoch 59/300\n",
      "231/231 [==============================] - 0s 868us/step - loss: 0.2279 - accuracy: 0.9158 - val_loss: 0.2315 - val_accuracy: 0.9153\n",
      "Epoch 60/300\n",
      "231/231 [==============================] - 0s 883us/step - loss: 0.2278 - accuracy: 0.9157 - val_loss: 0.2295 - val_accuracy: 0.9141\n",
      "Epoch 61/300\n",
      "231/231 [==============================] - 0s 886us/step - loss: 0.2279 - accuracy: 0.9157 - val_loss: 0.2296 - val_accuracy: 0.9141\n",
      "Epoch 62/300\n",
      "231/231 [==============================] - 0s 855us/step - loss: 0.2276 - accuracy: 0.9157 - val_loss: 0.2297 - val_accuracy: 0.9141\n",
      "Epoch 63/300\n",
      "231/231 [==============================] - 0s 1ms/step - loss: 0.2278 - accuracy: 0.9157 - val_loss: 0.2297 - val_accuracy: 0.9140\n",
      "Epoch 64/300\n",
      "231/231 [==============================] - 0s 963us/step - loss: 0.2277 - accuracy: 0.9157 - val_loss: 0.2299 - val_accuracy: 0.9146\n",
      "Epoch 65/300\n",
      "231/231 [==============================] - 0s 898us/step - loss: 0.2277 - accuracy: 0.9159 - val_loss: 0.2294 - val_accuracy: 0.9150\n",
      "Epoch 66/300\n",
      "231/231 [==============================] - 0s 865us/step - loss: 0.2277 - accuracy: 0.9157 - val_loss: 0.2295 - val_accuracy: 0.9143\n",
      "Epoch 67/300\n",
      "231/231 [==============================] - 0s 842us/step - loss: 0.2277 - accuracy: 0.9157 - val_loss: 0.2293 - val_accuracy: 0.9147\n",
      "Epoch 68/300\n",
      "231/231 [==============================] - 0s 937us/step - loss: 0.2281 - accuracy: 0.9155 - val_loss: 0.2294 - val_accuracy: 0.9144\n",
      "Epoch 69/300\n",
      "231/231 [==============================] - 0s 909us/step - loss: 0.2280 - accuracy: 0.9156 - val_loss: 0.2299 - val_accuracy: 0.9150\n",
      "Epoch 70/300\n",
      "231/231 [==============================] - 0s 870us/step - loss: 0.2277 - accuracy: 0.9156 - val_loss: 0.2321 - val_accuracy: 0.9123\n",
      "Epoch 71/300\n",
      "231/231 [==============================] - 0s 954us/step - loss: 0.2281 - accuracy: 0.9157 - val_loss: 0.2294 - val_accuracy: 0.9146\n",
      "Epoch 72/300\n",
      "231/231 [==============================] - 0s 930us/step - loss: 0.2280 - accuracy: 0.9158 - val_loss: 0.2296 - val_accuracy: 0.9142\n",
      "Epoch 73/300\n",
      "231/231 [==============================] - 0s 877us/step - loss: 0.2277 - accuracy: 0.9158 - val_loss: 0.2296 - val_accuracy: 0.9147\n",
      "Epoch 74/300\n",
      "231/231 [==============================] - 0s 1ms/step - loss: 0.2279 - accuracy: 0.9154 - val_loss: 0.2293 - val_accuracy: 0.9147\n",
      "Epoch 75/300\n",
      "231/231 [==============================] - 0s 937us/step - loss: 0.2278 - accuracy: 0.9157 - val_loss: 0.2301 - val_accuracy: 0.9147\n",
      "Epoch 76/300\n",
      "231/231 [==============================] - 0s 898us/step - loss: 0.2278 - accuracy: 0.9159 - val_loss: 0.2305 - val_accuracy: 0.9152\n",
      "Epoch 77/300\n",
      "231/231 [==============================] - 0s 873us/step - loss: 0.2278 - accuracy: 0.9156 - val_loss: 0.2305 - val_accuracy: 0.9151\n",
      "Epoch 78/300\n",
      "231/231 [==============================] - 0s 868us/step - loss: 0.2277 - accuracy: 0.9159 - val_loss: 0.2302 - val_accuracy: 0.9138\n",
      "Epoch 79/300\n",
      "231/231 [==============================] - 0s 928us/step - loss: 0.2278 - accuracy: 0.9156 - val_loss: 0.2294 - val_accuracy: 0.9145\n",
      "Epoch 80/300\n",
      "231/231 [==============================] - 0s 976us/step - loss: 0.2276 - accuracy: 0.9157 - val_loss: 0.2296 - val_accuracy: 0.9151\n",
      "Epoch 81/300\n",
      "231/231 [==============================] - 0s 940us/step - loss: 0.2278 - accuracy: 0.9156 - val_loss: 0.2304 - val_accuracy: 0.9147\n",
      "Epoch 82/300\n",
      "231/231 [==============================] - 0s 889us/step - loss: 0.2279 - accuracy: 0.9157 - val_loss: 0.2301 - val_accuracy: 0.9151\n",
      "Epoch 83/300\n",
      "231/231 [==============================] - 0s 882us/step - loss: 0.2279 - accuracy: 0.9157 - val_loss: 0.2294 - val_accuracy: 0.9145\n",
      "Epoch 84/300\n",
      "231/231 [==============================] - 0s 876us/step - loss: 0.2277 - accuracy: 0.9158 - val_loss: 0.2295 - val_accuracy: 0.9146\n",
      "Epoch 85/300\n",
      "231/231 [==============================] - 0s 915us/step - loss: 0.2277 - accuracy: 0.9158 - val_loss: 0.2297 - val_accuracy: 0.9143\n",
      "Epoch 86/300\n",
      "231/231 [==============================] - 0s 863us/step - loss: 0.2280 - accuracy: 0.9157 - val_loss: 0.2293 - val_accuracy: 0.9147\n",
      "Epoch 87/300\n",
      "231/231 [==============================] - 0s 855us/step - loss: 0.2277 - accuracy: 0.9157 - val_loss: 0.2296 - val_accuracy: 0.9149\n",
      "Epoch 88/300\n",
      "231/231 [==============================] - 0s 954us/step - loss: 0.2278 - accuracy: 0.9156 - val_loss: 0.2304 - val_accuracy: 0.9137\n",
      "Epoch 89/300\n",
      "231/231 [==============================] - 0s 943us/step - loss: 0.2278 - accuracy: 0.9157 - val_loss: 0.2296 - val_accuracy: 0.9144\n",
      "Epoch 90/300\n",
      "231/231 [==============================] - 0s 928us/step - loss: 0.2278 - accuracy: 0.9158 - val_loss: 0.2294 - val_accuracy: 0.9147\n",
      "Epoch 91/300\n",
      "231/231 [==============================] - 0s 881us/step - loss: 0.2277 - accuracy: 0.9156 - val_loss: 0.2297 - val_accuracy: 0.9143\n",
      "Epoch 92/300\n",
      "231/231 [==============================] - 0s 868us/step - loss: 0.2278 - accuracy: 0.9158 - val_loss: 0.2293 - val_accuracy: 0.9145\n",
      "Epoch 93/300\n",
      "231/231 [==============================] - 0s 872us/step - loss: 0.2277 - accuracy: 0.9159 - val_loss: 0.2305 - val_accuracy: 0.9148\n",
      "Epoch 94/300\n",
      "231/231 [==============================] - 0s 858us/step - loss: 0.2280 - accuracy: 0.9156 - val_loss: 0.2297 - val_accuracy: 0.9151\n",
      "Epoch 95/300\n",
      "231/231 [==============================] - 0s 971us/step - loss: 0.2278 - accuracy: 0.9157 - val_loss: 0.2297 - val_accuracy: 0.9142\n",
      "Epoch 96/300\n",
      "231/231 [==============================] - 0s 958us/step - loss: 0.2277 - accuracy: 0.9154 - val_loss: 0.2294 - val_accuracy: 0.9144\n",
      "Epoch 97/300\n",
      "231/231 [==============================] - 0s 889us/step - loss: 0.2278 - accuracy: 0.9155 - val_loss: 0.2295 - val_accuracy: 0.9142\n",
      "Epoch 98/300\n",
      "231/231 [==============================] - 0s 889us/step - loss: 0.2280 - accuracy: 0.9156 - val_loss: 0.2297 - val_accuracy: 0.9151\n",
      "Epoch 99/300\n",
      "231/231 [==============================] - 0s 877us/step - loss: 0.2278 - accuracy: 0.9155 - val_loss: 0.2295 - val_accuracy: 0.9144\n",
      "Epoch 100/300\n",
      "231/231 [==============================] - 0s 958us/step - loss: 0.2278 - accuracy: 0.9159 - val_loss: 0.2294 - val_accuracy: 0.9144\n",
      "Epoch 101/300\n",
      "231/231 [==============================] - 0s 993us/step - loss: 0.2278 - accuracy: 0.9156 - val_loss: 0.2295 - val_accuracy: 0.9143\n",
      "Epoch 102/300\n",
      "231/231 [==============================] - 0s 995us/step - loss: 0.2277 - accuracy: 0.9156 - val_loss: 0.2294 - val_accuracy: 0.9146\n",
      "Epoch 103/300\n",
      "231/231 [==============================] - 0s 946us/step - loss: 0.2278 - accuracy: 0.9158 - val_loss: 0.2295 - val_accuracy: 0.9150\n",
      "Epoch 104/300\n",
      "231/231 [==============================] - 0s 1ms/step - loss: 0.2279 - accuracy: 0.9156 - val_loss: 0.2300 - val_accuracy: 0.9151\n",
      "Epoch 105/300\n",
      "231/231 [==============================] - 0s 1ms/step - loss: 0.2277 - accuracy: 0.9156 - val_loss: 0.2294 - val_accuracy: 0.9149\n",
      "Epoch 106/300\n",
      "231/231 [==============================] - 0s 1ms/step - loss: 0.2279 - accuracy: 0.9157 - val_loss: 0.2294 - val_accuracy: 0.9148\n",
      "Epoch 107/300\n",
      "231/231 [==============================] - 0s 2ms/step - loss: 0.2278 - accuracy: 0.9159 - val_loss: 0.2297 - val_accuracy: 0.9140\n",
      "Epoch 108/300\n",
      "231/231 [==============================] - 0s 1ms/step - loss: 0.2278 - accuracy: 0.9159 - val_loss: 0.2316 - val_accuracy: 0.9129\n",
      "Epoch 109/300\n",
      "231/231 [==============================] - 0s 945us/step - loss: 0.2277 - accuracy: 0.9159 - val_loss: 0.2297 - val_accuracy: 0.9150\n",
      "Epoch 110/300\n",
      "231/231 [==============================] - 0s 907us/step - loss: 0.2278 - accuracy: 0.9157 - val_loss: 0.2294 - val_accuracy: 0.9149\n",
      "Epoch 111/300\n",
      "231/231 [==============================] - 0s 941us/step - loss: 0.2278 - accuracy: 0.9156 - val_loss: 0.2298 - val_accuracy: 0.9139\n",
      "Epoch 112/300\n",
      "231/231 [==============================] - 0s 868us/step - loss: 0.2277 - accuracy: 0.9159 - val_loss: 0.2294 - val_accuracy: 0.9148\n",
      "Epoch 113/300\n",
      "231/231 [==============================] - 0s 851us/step - loss: 0.2277 - accuracy: 0.9158 - val_loss: 0.2295 - val_accuracy: 0.9144\n",
      "Epoch 114/300\n",
      "231/231 [==============================] - 0s 958us/step - loss: 0.2278 - accuracy: 0.9158 - val_loss: 0.2294 - val_accuracy: 0.9146\n",
      "Epoch 115/300\n",
      "231/231 [==============================] - 0s 1ms/step - loss: 0.2277 - accuracy: 0.9158 - val_loss: 0.2294 - val_accuracy: 0.9149\n",
      "Epoch 116/300\n",
      "231/231 [==============================] - 0s 1ms/step - loss: 0.2278 - accuracy: 0.9158 - val_loss: 0.2298 - val_accuracy: 0.9141\n",
      "Epoch 117/300\n",
      "231/231 [==============================] - 0s 1ms/step - loss: 0.2277 - accuracy: 0.9157 - val_loss: 0.2294 - val_accuracy: 0.9147\n",
      "Epoch 118/300\n",
      "231/231 [==============================] - 0s 1ms/step - loss: 0.2277 - accuracy: 0.9156 - val_loss: 0.2297 - val_accuracy: 0.9149\n",
      "Epoch 119/300\n",
      "231/231 [==============================] - 0s 1ms/step - loss: 0.2277 - accuracy: 0.9159 - val_loss: 0.2298 - val_accuracy: 0.9139\n",
      "Epoch 120/300\n",
      "231/231 [==============================] - 0s 1ms/step - loss: 0.2277 - accuracy: 0.9158 - val_loss: 0.2298 - val_accuracy: 0.9140\n",
      "Epoch 121/300\n",
      "231/231 [==============================] - 0s 1ms/step - loss: 0.2280 - accuracy: 0.9157 - val_loss: 0.2296 - val_accuracy: 0.9149\n",
      "Epoch 122/300\n",
      "231/231 [==============================] - 0s 889us/step - loss: 0.2279 - accuracy: 0.9156 - val_loss: 0.2296 - val_accuracy: 0.9141\n",
      "Epoch 123/300\n",
      "231/231 [==============================] - 0s 906us/step - loss: 0.2278 - accuracy: 0.9157 - val_loss: 0.2294 - val_accuracy: 0.9149\n",
      "Epoch 124/300\n",
      "231/231 [==============================] - 0s 889us/step - loss: 0.2277 - accuracy: 0.9157 - val_loss: 0.2304 - val_accuracy: 0.9151\n",
      "Epoch 125/300\n",
      "231/231 [==============================] - 0s 911us/step - loss: 0.2278 - accuracy: 0.9158 - val_loss: 0.2298 - val_accuracy: 0.9151\n",
      "Epoch 126/300\n",
      "231/231 [==============================] - 0s 1ms/step - loss: 0.2278 - accuracy: 0.9157 - val_loss: 0.2302 - val_accuracy: 0.9140\n",
      "Epoch 127/300\n",
      "231/231 [==============================] - 0s 998us/step - loss: 0.2280 - accuracy: 0.9157 - val_loss: 0.2301 - val_accuracy: 0.9150\n",
      "Epoch 128/300\n",
      "231/231 [==============================] - 0s 933us/step - loss: 0.2278 - accuracy: 0.9156 - val_loss: 0.2296 - val_accuracy: 0.9150\n",
      "Epoch 129/300\n",
      "231/231 [==============================] - 0s 911us/step - loss: 0.2278 - accuracy: 0.9157 - val_loss: 0.2296 - val_accuracy: 0.9151\n",
      "Epoch 130/300\n",
      "231/231 [==============================] - 0s 876us/step - loss: 0.2277 - accuracy: 0.9157 - val_loss: 0.2293 - val_accuracy: 0.9145\n",
      "Epoch 131/300\n",
      "231/231 [==============================] - 0s 946us/step - loss: 0.2279 - accuracy: 0.9156 - val_loss: 0.2305 - val_accuracy: 0.9150\n",
      "Epoch 132/300\n",
      "231/231 [==============================] - 0s 997us/step - loss: 0.2278 - accuracy: 0.9157 - val_loss: 0.2294 - val_accuracy: 0.9145\n",
      "Epoch 133/300\n",
      "231/231 [==============================] - 0s 933us/step - loss: 0.2276 - accuracy: 0.9159 - val_loss: 0.2293 - val_accuracy: 0.9149\n",
      "Epoch 134/300\n",
      "231/231 [==============================] - 0s 887us/step - loss: 0.2278 - accuracy: 0.9157 - val_loss: 0.2296 - val_accuracy: 0.9150\n",
      "Epoch 135/300\n",
      "231/231 [==============================] - 0s 876us/step - loss: 0.2277 - accuracy: 0.9157 - val_loss: 0.2293 - val_accuracy: 0.9150\n",
      "Epoch 136/300\n",
      "231/231 [==============================] - 0s 894us/step - loss: 0.2276 - accuracy: 0.9156 - val_loss: 0.2294 - val_accuracy: 0.9145\n",
      "Epoch 137/300\n",
      "231/231 [==============================] - 0s 963us/step - loss: 0.2279 - accuracy: 0.9156 - val_loss: 0.2295 - val_accuracy: 0.9151\n",
      "Epoch 138/300\n",
      "231/231 [==============================] - 0s 1ms/step - loss: 0.2276 - accuracy: 0.9157 - val_loss: 0.2294 - val_accuracy: 0.9147\n",
      "Epoch 139/300\n",
      "231/231 [==============================] - 0s 976us/step - loss: 0.2276 - accuracy: 0.9157 - val_loss: 0.2310 - val_accuracy: 0.9151\n",
      "Epoch 140/300\n",
      "231/231 [==============================] - 0s 912us/step - loss: 0.2278 - accuracy: 0.9156 - val_loss: 0.2294 - val_accuracy: 0.9144\n",
      "Epoch 141/300\n",
      "231/231 [==============================] - 0s 885us/step - loss: 0.2278 - accuracy: 0.9156 - val_loss: 0.2296 - val_accuracy: 0.9149\n",
      "Epoch 142/300\n",
      "231/231 [==============================] - 0s 1ms/step - loss: 0.2276 - accuracy: 0.9158 - val_loss: 0.2306 - val_accuracy: 0.9134\n",
      "Epoch 143/300\n",
      "231/231 [==============================] - 0s 924us/step - loss: 0.2278 - accuracy: 0.9157 - val_loss: 0.2295 - val_accuracy: 0.9144\n",
      "Epoch 144/300\n",
      "231/231 [==============================] - 0s 891us/step - loss: 0.2276 - accuracy: 0.9158 - val_loss: 0.2301 - val_accuracy: 0.9150\n",
      "Epoch 145/300\n",
      "231/231 [==============================] - 0s 894us/step - loss: 0.2278 - accuracy: 0.9158 - val_loss: 0.2298 - val_accuracy: 0.9152\n",
      "Epoch 146/300\n",
      "231/231 [==============================] - 0s 1ms/step - loss: 0.2279 - accuracy: 0.9158 - val_loss: 0.2295 - val_accuracy: 0.9148\n",
      "Epoch 147/300\n",
      "231/231 [==============================] - 0s 1ms/step - loss: 0.2277 - accuracy: 0.9158 - val_loss: 0.2293 - val_accuracy: 0.9147\n",
      "Epoch 148/300\n",
      "231/231 [==============================] - 0s 1ms/step - loss: 0.2276 - accuracy: 0.9158 - val_loss: 0.2294 - val_accuracy: 0.9143\n",
      "Epoch 149/300\n",
      "231/231 [==============================] - 0s 1ms/step - loss: 0.2276 - accuracy: 0.9157 - val_loss: 0.2294 - val_accuracy: 0.9149\n",
      "Epoch 150/300\n",
      "231/231 [==============================] - 0s 1ms/step - loss: 0.2277 - accuracy: 0.9158 - val_loss: 0.2295 - val_accuracy: 0.9151\n",
      "Epoch 151/300\n",
      "231/231 [==============================] - 0s 1ms/step - loss: 0.2277 - accuracy: 0.9157 - val_loss: 0.2296 - val_accuracy: 0.9145\n",
      "Epoch 152/300\n",
      "231/231 [==============================] - 0s 976us/step - loss: 0.2281 - accuracy: 0.9157 - val_loss: 0.2296 - val_accuracy: 0.9150\n",
      "Epoch 153/300\n",
      "231/231 [==============================] - 0s 934us/step - loss: 0.2277 - accuracy: 0.9158 - val_loss: 0.2298 - val_accuracy: 0.9140\n",
      "Epoch 154/300\n",
      "231/231 [==============================] - 0s 997us/step - loss: 0.2277 - accuracy: 0.9158 - val_loss: 0.2293 - val_accuracy: 0.9149\n",
      "Epoch 155/300\n",
      "231/231 [==============================] - 0s 928us/step - loss: 0.2277 - accuracy: 0.9157 - val_loss: 0.2319 - val_accuracy: 0.9126\n",
      "Epoch 156/300\n",
      "231/231 [==============================] - 0s 1ms/step - loss: 0.2277 - accuracy: 0.9160 - val_loss: 0.2319 - val_accuracy: 0.9127\n",
      "Epoch 157/300\n",
      "231/231 [==============================] - 0s 1ms/step - loss: 0.2278 - accuracy: 0.9154 - val_loss: 0.2295 - val_accuracy: 0.9151\n",
      "Epoch 158/300\n",
      "231/231 [==============================] - 0s 1ms/step - loss: 0.2279 - accuracy: 0.9156 - val_loss: 0.2296 - val_accuracy: 0.9152\n",
      "Epoch 159/300\n",
      "231/231 [==============================] - 0s 1ms/step - loss: 0.2277 - accuracy: 0.9157 - val_loss: 0.2300 - val_accuracy: 0.9150\n",
      "Epoch 160/300\n",
      "231/231 [==============================] - 0s 1ms/step - loss: 0.2277 - accuracy: 0.9155 - val_loss: 0.2300 - val_accuracy: 0.9138\n",
      "Epoch 161/300\n",
      "231/231 [==============================] - 0s 1ms/step - loss: 0.2278 - accuracy: 0.9155 - val_loss: 0.2294 - val_accuracy: 0.9150\n",
      "Epoch 162/300\n",
      "231/231 [==============================] - 0s 1ms/step - loss: 0.2277 - accuracy: 0.9156 - val_loss: 0.2312 - val_accuracy: 0.9146\n",
      "Epoch 163/300\n",
      "231/231 [==============================] - 0s 1ms/step - loss: 0.2276 - accuracy: 0.9157 - val_loss: 0.2294 - val_accuracy: 0.9146\n",
      "Epoch 164/300\n",
      "231/231 [==============================] - 0s 997us/step - loss: 0.2277 - accuracy: 0.9155 - val_loss: 0.2302 - val_accuracy: 0.9150\n",
      "Epoch 165/300\n",
      "231/231 [==============================] - 0s 1ms/step - loss: 0.2277 - accuracy: 0.9158 - val_loss: 0.2294 - val_accuracy: 0.9147\n",
      "Epoch 166/300\n",
      "231/231 [==============================] - 0s 1ms/step - loss: 0.2277 - accuracy: 0.9157 - val_loss: 0.2299 - val_accuracy: 0.9139\n",
      "Epoch 167/300\n",
      "231/231 [==============================] - 0s 941us/step - loss: 0.2279 - accuracy: 0.9155 - val_loss: 0.2294 - val_accuracy: 0.9145\n",
      "Epoch 168/300\n",
      "231/231 [==============================] - 0s 1ms/step - loss: 0.2276 - accuracy: 0.9157 - val_loss: 0.2295 - val_accuracy: 0.9142\n",
      "Epoch 169/300\n",
      "231/231 [==============================] - 0s 995us/step - loss: 0.2277 - accuracy: 0.9158 - val_loss: 0.2296 - val_accuracy: 0.9143\n",
      "Epoch 170/300\n",
      "231/231 [==============================] - 0s 984us/step - loss: 0.2278 - accuracy: 0.9157 - val_loss: 0.2293 - val_accuracy: 0.9149\n",
      "Epoch 171/300\n",
      "231/231 [==============================] - 0s 1ms/step - loss: 0.2277 - accuracy: 0.9157 - val_loss: 0.2293 - val_accuracy: 0.9146\n",
      "Epoch 172/300\n",
      "231/231 [==============================] - 0s 963us/step - loss: 0.2275 - accuracy: 0.9157 - val_loss: 0.2295 - val_accuracy: 0.9149\n",
      "Epoch 173/300\n",
      "231/231 [==============================] - 0s 961us/step - loss: 0.2276 - accuracy: 0.9157 - val_loss: 0.2293 - val_accuracy: 0.9147\n",
      "Epoch 174/300\n",
      "231/231 [==============================] - 0s 920us/step - loss: 0.2276 - accuracy: 0.9157 - val_loss: 0.2293 - val_accuracy: 0.9146\n",
      "Epoch 175/300\n",
      "231/231 [==============================] - 0s 917us/step - loss: 0.2277 - accuracy: 0.9157 - val_loss: 0.2294 - val_accuracy: 0.9147\n",
      "Epoch 176/300\n",
      "231/231 [==============================] - 0s 876us/step - loss: 0.2277 - accuracy: 0.9158 - val_loss: 0.2298 - val_accuracy: 0.9149\n",
      "Epoch 177/300\n",
      "231/231 [==============================] - 0s 855us/step - loss: 0.2278 - accuracy: 0.9159 - val_loss: 0.2316 - val_accuracy: 0.9148\n",
      "Epoch 178/300\n",
      "231/231 [==============================] - 0s 868us/step - loss: 0.2279 - accuracy: 0.9155 - val_loss: 0.2298 - val_accuracy: 0.9139\n",
      "Epoch 179/300\n",
      "231/231 [==============================] - 0s 1ms/step - loss: 0.2278 - accuracy: 0.9155 - val_loss: 0.2298 - val_accuracy: 0.9142\n",
      "Epoch 180/300\n",
      "231/231 [==============================] - 0s 1ms/step - loss: 0.2278 - accuracy: 0.9154 - val_loss: 0.2295 - val_accuracy: 0.9145\n",
      "Epoch 181/300\n",
      "231/231 [==============================] - 0s 1ms/step - loss: 0.2277 - accuracy: 0.9156 - val_loss: 0.2294 - val_accuracy: 0.9148\n",
      "Epoch 182/300\n",
      "231/231 [==============================] - 0s 905us/step - loss: 0.2275 - accuracy: 0.9158 - val_loss: 0.2294 - val_accuracy: 0.9144\n",
      "Epoch 183/300\n",
      "231/231 [==============================] - 0s 891us/step - loss: 0.2277 - accuracy: 0.9158 - val_loss: 0.2294 - val_accuracy: 0.9148\n",
      "Epoch 184/300\n",
      "231/231 [==============================] - 0s 999us/step - loss: 0.2277 - accuracy: 0.9156 - val_loss: 0.2294 - val_accuracy: 0.9145\n",
      "Epoch 185/300\n",
      "231/231 [==============================] - 0s 967us/step - loss: 0.2276 - accuracy: 0.9157 - val_loss: 0.2297 - val_accuracy: 0.9142\n",
      "Epoch 186/300\n",
      "231/231 [==============================] - 0s 942us/step - loss: 0.2277 - accuracy: 0.9157 - val_loss: 0.2295 - val_accuracy: 0.9144\n",
      "Epoch 187/300\n",
      "231/231 [==============================] - 0s 949us/step - loss: 0.2278 - accuracy: 0.9156 - val_loss: 0.2315 - val_accuracy: 0.9146\n",
      "Epoch 188/300\n",
      "231/231 [==============================] - 0s 911us/step - loss: 0.2278 - accuracy: 0.9156 - val_loss: 0.2295 - val_accuracy: 0.9143\n",
      "Epoch 189/300\n",
      "231/231 [==============================] - 0s 1ms/step - loss: 0.2279 - accuracy: 0.9157 - val_loss: 0.2294 - val_accuracy: 0.9148\n",
      "Epoch 190/300\n",
      "231/231 [==============================] - 0s 971us/step - loss: 0.2276 - accuracy: 0.9157 - val_loss: 0.2293 - val_accuracy: 0.9145\n",
      "Epoch 191/300\n",
      "231/231 [==============================] - 0s 944us/step - loss: 0.2277 - accuracy: 0.9158 - val_loss: 0.2299 - val_accuracy: 0.9152\n",
      "Epoch 192/300\n",
      "231/231 [==============================] - 0s 970us/step - loss: 0.2277 - accuracy: 0.9157 - val_loss: 0.2294 - val_accuracy: 0.9143\n",
      "Epoch 193/300\n",
      "231/231 [==============================] - 0s 898us/step - loss: 0.2277 - accuracy: 0.9156 - val_loss: 0.2294 - val_accuracy: 0.9149\n",
      "Epoch 194/300\n",
      "231/231 [==============================] - 0s 937us/step - loss: 0.2276 - accuracy: 0.9157 - val_loss: 0.2301 - val_accuracy: 0.9152\n",
      "Epoch 195/300\n",
      "231/231 [==============================] - 0s 980us/step - loss: 0.2276 - accuracy: 0.9158 - val_loss: 0.2293 - val_accuracy: 0.9146\n",
      "Epoch 196/300\n",
      "231/231 [==============================] - 0s 1ms/step - loss: 0.2276 - accuracy: 0.9156 - val_loss: 0.2293 - val_accuracy: 0.9150\n",
      "Epoch 197/300\n",
      "231/231 [==============================] - 0s 963us/step - loss: 0.2276 - accuracy: 0.9159 - val_loss: 0.2293 - val_accuracy: 0.9149\n",
      "Epoch 198/300\n",
      "231/231 [==============================] - 0s 1ms/step - loss: 0.2276 - accuracy: 0.9158 - val_loss: 0.2307 - val_accuracy: 0.9149\n",
      "Epoch 199/300\n",
      "231/231 [==============================] - 0s 957us/step - loss: 0.2277 - accuracy: 0.9156 - val_loss: 0.2294 - val_accuracy: 0.9149\n",
      "Epoch 200/300\n",
      "231/231 [==============================] - 0s 946us/step - loss: 0.2276 - accuracy: 0.9158 - val_loss: 0.2294 - val_accuracy: 0.9145\n",
      "Epoch 201/300\n",
      "231/231 [==============================] - 0s 896us/step - loss: 0.2275 - accuracy: 0.9157 - val_loss: 0.2297 - val_accuracy: 0.9150\n",
      "Epoch 202/300\n",
      "231/231 [==============================] - 0s 876us/step - loss: 0.2276 - accuracy: 0.9158 - val_loss: 0.2295 - val_accuracy: 0.9150\n",
      "Epoch 203/300\n",
      "231/231 [==============================] - 0s 851us/step - loss: 0.2276 - accuracy: 0.9157 - val_loss: 0.2302 - val_accuracy: 0.9146\n",
      "Epoch 204/300\n",
      "231/231 [==============================] - 0s 859us/step - loss: 0.2276 - accuracy: 0.9157 - val_loss: 0.2293 - val_accuracy: 0.9147\n",
      "Epoch 205/300\n",
      "231/231 [==============================] - 0s 1ms/step - loss: 0.2276 - accuracy: 0.9158 - val_loss: 0.2294 - val_accuracy: 0.9145\n",
      "Epoch 206/300\n",
      "231/231 [==============================] - 0s 967us/step - loss: 0.2276 - accuracy: 0.9157 - val_loss: 0.2296 - val_accuracy: 0.9140\n",
      "Epoch 207/300\n",
      "231/231 [==============================] - 0s 872us/step - loss: 0.2277 - accuracy: 0.9156 - val_loss: 0.2294 - val_accuracy: 0.9151\n",
      "Epoch 208/300\n",
      "231/231 [==============================] - 0s 876us/step - loss: 0.2275 - accuracy: 0.9156 - val_loss: 0.2297 - val_accuracy: 0.9141\n",
      "Epoch 209/300\n",
      "231/231 [==============================] - 0s 868us/step - loss: 0.2275 - accuracy: 0.9155 - val_loss: 0.2296 - val_accuracy: 0.9143\n",
      "Epoch 210/300\n",
      "231/231 [==============================] - 0s 854us/step - loss: 0.2277 - accuracy: 0.9157 - val_loss: 0.2295 - val_accuracy: 0.9151\n",
      "Epoch 211/300\n",
      "231/231 [==============================] - 0s 1ms/step - loss: 0.2276 - accuracy: 0.9157 - val_loss: 0.2300 - val_accuracy: 0.9152\n",
      "Epoch 212/300\n",
      "231/231 [==============================] - 0s 1ms/step - loss: 0.2275 - accuracy: 0.9158 - val_loss: 0.2297 - val_accuracy: 0.9151\n",
      "Epoch 213/300\n",
      "231/231 [==============================] - 0s 939us/step - loss: 0.2276 - accuracy: 0.9156 - val_loss: 0.2302 - val_accuracy: 0.9148\n",
      "Epoch 214/300\n",
      "231/231 [==============================] - 0s 881us/step - loss: 0.2276 - accuracy: 0.9158 - val_loss: 0.2306 - val_accuracy: 0.9150\n",
      "Epoch 215/300\n",
      "231/231 [==============================] - 0s 861us/step - loss: 0.2276 - accuracy: 0.9158 - val_loss: 0.2295 - val_accuracy: 0.9145\n",
      "Epoch 216/300\n",
      "231/231 [==============================] - 0s 997us/step - loss: 0.2275 - accuracy: 0.9158 - val_loss: 0.2295 - val_accuracy: 0.9146\n",
      "Epoch 217/300\n",
      "231/231 [==============================] - 0s 928us/step - loss: 0.2277 - accuracy: 0.9157 - val_loss: 0.2296 - val_accuracy: 0.9143\n",
      "Epoch 218/300\n",
      "231/231 [==============================] - 0s 1ms/step - loss: 0.2278 - accuracy: 0.9156 - val_loss: 0.2295 - val_accuracy: 0.9144\n",
      "Epoch 219/300\n",
      "231/231 [==============================] - 0s 1ms/step - loss: 0.2276 - accuracy: 0.9157 - val_loss: 0.2293 - val_accuracy: 0.9148\n",
      "Epoch 220/300\n",
      "231/231 [==============================] - 0s 1ms/step - loss: 0.2275 - accuracy: 0.9157 - val_loss: 0.2302 - val_accuracy: 0.9149\n",
      "Epoch 221/300\n",
      "231/231 [==============================] - 0s 1ms/step - loss: 0.2276 - accuracy: 0.9159 - val_loss: 0.2296 - val_accuracy: 0.9150\n",
      "Epoch 222/300\n",
      "231/231 [==============================] - 0s 920us/step - loss: 0.2276 - accuracy: 0.9156 - val_loss: 0.2295 - val_accuracy: 0.9143\n",
      "Epoch 223/300\n",
      "231/231 [==============================] - 0s 988us/step - loss: 0.2276 - accuracy: 0.9157 - val_loss: 0.2293 - val_accuracy: 0.9146\n",
      "Epoch 224/300\n",
      "231/231 [==============================] - 0s 1ms/step - loss: 0.2278 - accuracy: 0.9156 - val_loss: 0.2294 - val_accuracy: 0.9145\n",
      "Epoch 225/300\n",
      "231/231 [==============================] - 0s 1ms/step - loss: 0.2276 - accuracy: 0.9157 - val_loss: 0.2294 - val_accuracy: 0.9151\n",
      "Epoch 226/300\n",
      "231/231 [==============================] - 0s 993us/step - loss: 0.2275 - accuracy: 0.9157 - val_loss: 0.2294 - val_accuracy: 0.9148\n",
      "Epoch 227/300\n",
      "231/231 [==============================] - 0s 899us/step - loss: 0.2274 - accuracy: 0.9158 - val_loss: 0.2294 - val_accuracy: 0.9149\n",
      "Epoch 228/300\n",
      "231/231 [==============================] - 0s 882us/step - loss: 0.2276 - accuracy: 0.9156 - val_loss: 0.2297 - val_accuracy: 0.9151\n",
      "Epoch 229/300\n",
      "231/231 [==============================] - 0s 856us/step - loss: 0.2277 - accuracy: 0.9159 - val_loss: 0.2293 - val_accuracy: 0.9149\n",
      "Epoch 230/300\n",
      "231/231 [==============================] - 0s 870us/step - loss: 0.2276 - accuracy: 0.9158 - val_loss: 0.2294 - val_accuracy: 0.9148\n",
      "Epoch 231/300\n",
      "231/231 [==============================] - 0s 885us/step - loss: 0.2276 - accuracy: 0.9157 - val_loss: 0.2293 - val_accuracy: 0.9146\n",
      "Epoch 232/300\n",
      "231/231 [==============================] - 0s 1ms/step - loss: 0.2275 - accuracy: 0.9158 - val_loss: 0.2293 - val_accuracy: 0.9150\n",
      "Epoch 233/300\n",
      "231/231 [==============================] - 0s 898us/step - loss: 0.2275 - accuracy: 0.9158 - val_loss: 0.2293 - val_accuracy: 0.9147\n",
      "Epoch 234/300\n",
      "231/231 [==============================] - 0s 877us/step - loss: 0.2274 - accuracy: 0.9157 - val_loss: 0.2307 - val_accuracy: 0.9151\n",
      "Epoch 235/300\n",
      "231/231 [==============================] - 0s 851us/step - loss: 0.2278 - accuracy: 0.9156 - val_loss: 0.2295 - val_accuracy: 0.9142\n",
      "Epoch 236/300\n",
      "231/231 [==============================] - 0s 912us/step - loss: 0.2275 - accuracy: 0.9156 - val_loss: 0.2300 - val_accuracy: 0.9148\n",
      "Epoch 237/300\n",
      "231/231 [==============================] - 0s 1ms/step - loss: 0.2274 - accuracy: 0.9157 - val_loss: 0.2301 - val_accuracy: 0.9151\n",
      "Epoch 238/300\n",
      "231/231 [==============================] - 0s 922us/step - loss: 0.2276 - accuracy: 0.9156 - val_loss: 0.2307 - val_accuracy: 0.9151\n",
      "Epoch 239/300\n",
      "231/231 [==============================] - 0s 924us/step - loss: 0.2276 - accuracy: 0.9158 - val_loss: 0.2299 - val_accuracy: 0.9151\n",
      "Epoch 240/300\n",
      "231/231 [==============================] - 0s 907us/step - loss: 0.2275 - accuracy: 0.9157 - val_loss: 0.2293 - val_accuracy: 0.9149\n",
      "Epoch 241/300\n",
      "231/231 [==============================] - 0s 883us/step - loss: 0.2275 - accuracy: 0.9158 - val_loss: 0.2296 - val_accuracy: 0.9142\n",
      "Epoch 242/300\n",
      "231/231 [==============================] - 0s 868us/step - loss: 0.2275 - accuracy: 0.9157 - val_loss: 0.2295 - val_accuracy: 0.9142\n",
      "Epoch 243/300\n",
      "231/231 [==============================] - 0s 952us/step - loss: 0.2276 - accuracy: 0.9156 - val_loss: 0.2292 - val_accuracy: 0.9147\n",
      "Epoch 244/300\n",
      "231/231 [==============================] - 0s 941us/step - loss: 0.2277 - accuracy: 0.9155 - val_loss: 0.2293 - val_accuracy: 0.9147\n",
      "Epoch 245/300\n",
      "231/231 [==============================] - 0s 958us/step - loss: 0.2274 - accuracy: 0.9158 - val_loss: 0.2298 - val_accuracy: 0.9137\n",
      "Epoch 246/300\n",
      "231/231 [==============================] - 0s 901us/step - loss: 0.2275 - accuracy: 0.9157 - val_loss: 0.2299 - val_accuracy: 0.9149\n",
      "Epoch 247/300\n",
      "231/231 [==============================] - 0s 884us/step - loss: 0.2275 - accuracy: 0.9157 - val_loss: 0.2294 - val_accuracy: 0.9144\n",
      "Epoch 248/300\n",
      "231/231 [==============================] - 0s 935us/step - loss: 0.2276 - accuracy: 0.9157 - val_loss: 0.2295 - val_accuracy: 0.9149\n",
      "Epoch 249/300\n",
      "231/231 [==============================] - 0s 881us/step - loss: 0.2274 - accuracy: 0.9157 - val_loss: 0.2293 - val_accuracy: 0.9146\n",
      "Epoch 250/300\n",
      "231/231 [==============================] - 0s 885us/step - loss: 0.2275 - accuracy: 0.9158 - val_loss: 0.2293 - val_accuracy: 0.9144\n",
      "Epoch 251/300\n",
      "231/231 [==============================] - 0s 971us/step - loss: 0.2276 - accuracy: 0.9156 - val_loss: 0.2294 - val_accuracy: 0.9146\n",
      "Epoch 252/300\n",
      "231/231 [==============================] - 0s 920us/step - loss: 0.2276 - accuracy: 0.9158 - val_loss: 0.2295 - val_accuracy: 0.9142\n",
      "Epoch 253/300\n",
      "231/231 [==============================] - 0s 937us/step - loss: 0.2278 - accuracy: 0.9158 - val_loss: 0.2293 - val_accuracy: 0.9148\n",
      "Epoch 254/300\n",
      "231/231 [==============================] - 0s 894us/step - loss: 0.2275 - accuracy: 0.9155 - val_loss: 0.2293 - val_accuracy: 0.9151\n",
      "Epoch 255/300\n",
      "231/231 [==============================] - 0s 889us/step - loss: 0.2274 - accuracy: 0.9158 - val_loss: 0.2294 - val_accuracy: 0.9152\n",
      "Epoch 256/300\n",
      "231/231 [==============================] - 0s 855us/step - loss: 0.2274 - accuracy: 0.9158 - val_loss: 0.2302 - val_accuracy: 0.9136\n",
      "Epoch 257/300\n",
      "231/231 [==============================] - 0s 993us/step - loss: 0.2275 - accuracy: 0.9157 - val_loss: 0.2306 - val_accuracy: 0.9135\n",
      "Epoch 258/300\n",
      "231/231 [==============================] - 0s 932us/step - loss: 0.2275 - accuracy: 0.9157 - val_loss: 0.2293 - val_accuracy: 0.9144\n",
      "Epoch 259/300\n",
      "231/231 [==============================] - 0s 949us/step - loss: 0.2276 - accuracy: 0.9156 - val_loss: 0.2293 - val_accuracy: 0.9144\n",
      "Epoch 260/300\n",
      "231/231 [==============================] - 0s 885us/step - loss: 0.2274 - accuracy: 0.9157 - val_loss: 0.2297 - val_accuracy: 0.9148\n",
      "Epoch 261/300\n",
      "231/231 [==============================] - 0s 847us/step - loss: 0.2275 - accuracy: 0.9159 - val_loss: 0.2294 - val_accuracy: 0.9151\n",
      "Epoch 262/300\n",
      "231/231 [==============================] - 0s 878us/step - loss: 0.2277 - accuracy: 0.9157 - val_loss: 0.2295 - val_accuracy: 0.9144\n",
      "Epoch 263/300\n",
      "231/231 [==============================] - 0s 958us/step - loss: 0.2274 - accuracy: 0.9156 - val_loss: 0.2315 - val_accuracy: 0.9149\n",
      "Epoch 264/300\n",
      "231/231 [==============================] - 0s 997us/step - loss: 0.2277 - accuracy: 0.9158 - val_loss: 0.2293 - val_accuracy: 0.9145\n",
      "Epoch 265/300\n",
      "231/231 [==============================] - 0s 898us/step - loss: 0.2275 - accuracy: 0.9158 - val_loss: 0.2293 - val_accuracy: 0.9147\n",
      "Epoch 266/300\n",
      "231/231 [==============================] - 0s 877us/step - loss: 0.2276 - accuracy: 0.9157 - val_loss: 0.2295 - val_accuracy: 0.9142\n",
      "Epoch 267/300\n",
      "231/231 [==============================] - 0s 865us/step - loss: 0.2275 - accuracy: 0.9158 - val_loss: 0.2294 - val_accuracy: 0.9147\n",
      "Epoch 268/300\n",
      "231/231 [==============================] - 0s 859us/step - loss: 0.2275 - accuracy: 0.9158 - val_loss: 0.2298 - val_accuracy: 0.9139\n",
      "Epoch 269/300\n",
      "231/231 [==============================] - 0s 1ms/step - loss: 0.2276 - accuracy: 0.9157 - val_loss: 0.2292 - val_accuracy: 0.9147\n",
      "Epoch 270/300\n",
      "231/231 [==============================] - 0s 997us/step - loss: 0.2277 - accuracy: 0.9158 - val_loss: 0.2296 - val_accuracy: 0.9151\n",
      "Epoch 271/300\n",
      "231/231 [==============================] - 0s 896us/step - loss: 0.2275 - accuracy: 0.9156 - val_loss: 0.2293 - val_accuracy: 0.9145\n",
      "Epoch 272/300\n",
      "231/231 [==============================] - 0s 894us/step - loss: 0.2275 - accuracy: 0.9157 - val_loss: 0.2293 - val_accuracy: 0.9143\n",
      "Epoch 273/300\n",
      "231/231 [==============================] - 0s 893us/step - loss: 0.2276 - accuracy: 0.9159 - val_loss: 0.2300 - val_accuracy: 0.9148\n",
      "Epoch 274/300\n",
      "231/231 [==============================] - 0s 868us/step - loss: 0.2275 - accuracy: 0.9156 - val_loss: 0.2293 - val_accuracy: 0.9149\n",
      "Epoch 275/300\n",
      "231/231 [==============================] - 0s 971us/step - loss: 0.2275 - accuracy: 0.9158 - val_loss: 0.2296 - val_accuracy: 0.9152\n",
      "Epoch 276/300\n",
      "231/231 [==============================] - 0s 989us/step - loss: 0.2275 - accuracy: 0.9157 - val_loss: 0.2292 - val_accuracy: 0.9146\n",
      "Epoch 277/300\n",
      "231/231 [==============================] - 0s 916us/step - loss: 0.2275 - accuracy: 0.9159 - val_loss: 0.2295 - val_accuracy: 0.9141\n",
      "Epoch 278/300\n",
      "231/231 [==============================] - 0s 892us/step - loss: 0.2274 - accuracy: 0.9158 - val_loss: 0.2295 - val_accuracy: 0.9150\n",
      "Epoch 279/300\n",
      "231/231 [==============================] - 0s 853us/step - loss: 0.2277 - accuracy: 0.9157 - val_loss: 0.2296 - val_accuracy: 0.9151\n",
      "Epoch 280/300\n",
      "231/231 [==============================] - 0s 920us/step - loss: 0.2275 - accuracy: 0.9157 - val_loss: 0.2295 - val_accuracy: 0.9149\n",
      "Epoch 281/300\n",
      "231/231 [==============================] - 0s 907us/step - loss: 0.2276 - accuracy: 0.9154 - val_loss: 0.2312 - val_accuracy: 0.9149\n",
      "Epoch 282/300\n",
      "231/231 [==============================] - 0s 941us/step - loss: 0.2275 - accuracy: 0.9157 - val_loss: 0.2295 - val_accuracy: 0.9142\n",
      "Epoch 283/300\n",
      "231/231 [==============================] - 0s 954us/step - loss: 0.2274 - accuracy: 0.9157 - val_loss: 0.2295 - val_accuracy: 0.9148\n",
      "Epoch 284/300\n",
      "231/231 [==============================] - 0s 881us/step - loss: 0.2276 - accuracy: 0.9154 - val_loss: 0.2297 - val_accuracy: 0.9149\n",
      "Epoch 285/300\n",
      "231/231 [==============================] - 0s 859us/step - loss: 0.2276 - accuracy: 0.9156 - val_loss: 0.2292 - val_accuracy: 0.9146\n",
      "Epoch 286/300\n",
      "231/231 [==============================] - 0s 989us/step - loss: 0.2276 - accuracy: 0.9156 - val_loss: 0.2296 - val_accuracy: 0.9150\n",
      "Epoch 287/300\n",
      "231/231 [==============================] - 0s 911us/step - loss: 0.2275 - accuracy: 0.9155 - val_loss: 0.2300 - val_accuracy: 0.9151\n",
      "Epoch 288/300\n",
      "231/231 [==============================] - 0s 883us/step - loss: 0.2275 - accuracy: 0.9156 - val_loss: 0.2292 - val_accuracy: 0.9147\n",
      "Epoch 289/300\n",
      "231/231 [==============================] - 0s 885us/step - loss: 0.2274 - accuracy: 0.9156 - val_loss: 0.2292 - val_accuracy: 0.9146\n",
      "Epoch 290/300\n",
      "231/231 [==============================] - 0s 993us/step - loss: 0.2273 - accuracy: 0.9157 - val_loss: 0.2292 - val_accuracy: 0.9147\n",
      "Epoch 291/300\n",
      "231/231 [==============================] - 0s 976us/step - loss: 0.2274 - accuracy: 0.9157 - val_loss: 0.2295 - val_accuracy: 0.9141\n",
      "Epoch 292/300\n",
      "231/231 [==============================] - 0s 889us/step - loss: 0.2275 - accuracy: 0.9157 - val_loss: 0.2305 - val_accuracy: 0.9148\n",
      "Epoch 293/300\n",
      "231/231 [==============================] - 0s 872us/step - loss: 0.2273 - accuracy: 0.9158 - val_loss: 0.2295 - val_accuracy: 0.9148\n",
      "Epoch 294/300\n",
      "231/231 [==============================] - 0s 851us/step - loss: 0.2276 - accuracy: 0.9156 - val_loss: 0.2299 - val_accuracy: 0.9136\n",
      "Epoch 295/300\n",
      "231/231 [==============================] - 0s 875us/step - loss: 0.2276 - accuracy: 0.9157 - val_loss: 0.2292 - val_accuracy: 0.9146\n",
      "Epoch 296/300\n",
      "231/231 [==============================] - 0s 971us/step - loss: 0.2275 - accuracy: 0.9156 - val_loss: 0.2292 - val_accuracy: 0.9148\n",
      "Epoch 297/300\n",
      "231/231 [==============================] - 0s 996us/step - loss: 0.2275 - accuracy: 0.9157 - val_loss: 0.2295 - val_accuracy: 0.9141\n",
      "Epoch 298/300\n",
      "231/231 [==============================] - 0s 889us/step - loss: 0.2274 - accuracy: 0.9158 - val_loss: 0.2296 - val_accuracy: 0.9148\n",
      "Epoch 299/300\n",
      "231/231 [==============================] - 0s 871us/step - loss: 0.2274 - accuracy: 0.9158 - val_loss: 0.2300 - val_accuracy: 0.9146\n",
      "Epoch 300/300\n",
      "231/231 [==============================] - 0s 870us/step - loss: 0.2277 - accuracy: 0.9159 - val_loss: 0.2292 - val_accuracy: 0.9143\n"
     ]
    }
   ],
   "source": [
    "\n",
    "history = model.fit(x_train, y_train,validation_split=0.20, epochs=300, verbose=1, batch_size=1000)\n"
   ]
  },
  {
   "cell_type": "code",
   "execution_count": 18,
   "metadata": {},
   "outputs": [
    {
     "data": {
      "image/png": "[encoded data removed]",
      "text/plain": [
       "<Figure size 432x288 with 1 Axes>"
      ]
     },
     "metadata": {
      "needs_background": "light"
     },
     "output_type": "display_data"
    }
   ],
   "source": [
    "plt.plot(history.history['accuracy'])\n",
    "plt.plot(history.history['val_accuracy'])\n",
    "plt.title('model accuracy')\n",
    "plt.ylabel('accuracy')\n",
    "plt.xlabel('epoch')\n",
    "plt.legend(['train', 'validation'], loc='upper left')\n",
    "plt.show()"
   ]
  },
  {
   "cell_type": "markdown",
   "metadata": {},
   "source": [
    "## Test accuracy"
   ]
  },
  {
   "cell_type": "code",
   "execution_count": 19,
   "metadata": {},
   "outputs": [
    {
     "name": "stdout",
     "output_type": "stream",
     "text": [
      "WARNING:tensorflow:From C:\\Users\\alegg\\AppData\\Local\\Temp/ipykernel_33736/3675219175.py:1: Sequential.predict_classes (from tensorflow.python.keras.engine.sequential) is deprecated and will be removed after 2021-01-01.\n",
      "Instructions for updating:\n",
      "Please use instead:* `np.argmax(model.predict(x), axis=-1)`,   if your model does multi-class classification   (e.g. if it uses a `softmax` last-layer activation).* `(model.predict(x) > 0.5).astype(\"int32\")`,   if your model does binary classification   (e.g. if it uses a `sigmoid` last-layer activation).\n"
     ]
    },
    {
     "data": {
      "text/plain": [
       "array([0, 0, 0, ..., 0, 0, 0], dtype=int64)"
      ]
     },
     "execution_count": 19,
     "metadata": {},
     "output_type": "execute_result"
    }
   ],
   "source": [
    "y_hat = model.predict_classes(x_test)\n",
    "y_hat"
   ]
  },
  {
   "cell_type": "code",
   "execution_count": 20,
   "metadata": {},
   "outputs": [
    {
     "data": {
      "text/plain": [
       "0.9174145533006035"
      ]
     },
     "execution_count": 20,
     "metadata": {},
     "output_type": "execute_result"
    }
   ],
   "source": [
    "\n",
    "accuracy_score(y_test, y_hat)"
   ]
  },
  {
   "cell_type": "markdown",
   "metadata": {},
   "source": [
    "## Save model"
   ]
  },
  {
   "cell_type": "code",
   "execution_count": 21,
   "metadata": {},
   "outputs": [
    {
     "name": "stdout",
     "output_type": "stream",
     "text": [
      "WARNING:tensorflow:From d:\\Programas\\Anaconda\\envs\\ISTec\\lib\\site-packages\\tensorflow\\python\\training\\tracking\\tracking.py:111: Model.state_updates (from tensorflow.python.keras.engine.training) is deprecated and will be removed in a future version.\n",
      "Instructions for updating:\n",
      "This property should not be used in TensorFlow 2.0, as updates are applied automatically.\n",
      "WARNING:tensorflow:From d:\\Programas\\Anaconda\\envs\\ISTec\\lib\\site-packages\\tensorflow\\python\\training\\tracking\\tracking.py:111: Layer.updates (from tensorflow.python.keras.engine.base_layer) is deprecated and will be removed in a future version.\n",
      "Instructions for updating:\n",
      "This property should not be used in TensorFlow 2.0, as updates are applied automatically.\n",
      "INFO:tensorflow:Assets written to: Weights/heart_tfmodel\\assets\n"
     ]
    }
   ],
   "source": [
    "model.save('Weights/heart_tfmodel')"
   ]
  },
  {
   "cell_type": "markdown",
   "metadata": {},
   "source": [
    "## Load model"
   ]
  },
  {
   "cell_type": "code",
   "execution_count": 22,
   "metadata": {},
   "outputs": [],
   "source": [
    "model2 = load_model('Weights/heart_tfmodel')"
   ]
  },
  {
   "cell_type": "code",
   "execution_count": 23,
   "metadata": {},
   "outputs": [
    {
     "data": {
      "text/plain": [
       "0.9174145533006035"
      ]
     },
     "execution_count": 23,
     "metadata": {},
     "output_type": "execute_result"
    }
   ],
   "source": [
    "y_hat = model2.predict_classes(x_test)\n",
    "y_hat\n",
    "accuracy_score(y_test, y_hat)"
   ]
  }
 ],
 "metadata": {
  "interpreter": {
   "hash": "0b8a15cb922cf39be20a5a49d06f5fdad7776e1230178cb062c6fffa2c612ddc"
  },
  "kernelspec": {
   "display_name": "Python 3.7.11 ('ISTec')",
   "language": "python",
   "name": "python3"
  },
  "language_info": {
   "codemirror_mode": {
    "name": "ipython",
    "version": 3
   },
   "file_extension": ".py",
   "mimetype": "text/x-python",
   "name": "python",
   "nbconvert_exporter": "python",
   "pygments_lexer": "ipython3",
   "version": "3.7.11"
  },
  "orig_nbformat": 4
 },
 "nbformat": 4,
 "nbformat_minor": 2
}
