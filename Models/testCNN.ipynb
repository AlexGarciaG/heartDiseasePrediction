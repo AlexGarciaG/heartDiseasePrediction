{
 "cells": [
  {
   "cell_type": "markdown",
   "metadata": {},
   "source": [
    "# Library"
   ]
  },
  {
   "cell_type": "code",
   "execution_count": 1,
   "metadata": {},
   "outputs": [],
   "source": [
    "import numpy as np\n",
    "import pandas as pd\n",
    "from matplotlib import pyplot as plt"
   ]
  },
  {
   "cell_type": "markdown",
   "metadata": {},
   "source": [
    "# Load data"
   ]
  },
  {
   "cell_type": "code",
   "execution_count": 2,
   "metadata": {},
   "outputs": [
    {
     "data": {
      "text/html": [
       "<div>\n",
       "<style scoped>\n",
       "    .dataframe tbody tr th:only-of-type {\n",
       "        vertical-align: middle;\n",
       "    }\n",
       "\n",
       "    .dataframe tbody tr th {\n",
       "        vertical-align: top;\n",
       "    }\n",
       "\n",
       "    .dataframe thead th {\n",
       "        text-align: right;\n",
       "    }\n",
       "</style>\n",
       "<table border=\"1\" class=\"dataframe\">\n",
       "  <thead>\n",
       "    <tr style=\"text-align: right;\">\n",
       "      <th></th>\n",
       "      <th>label</th>\n",
       "      <th>pixel0</th>\n",
       "      <th>pixel1</th>\n",
       "      <th>pixel2</th>\n",
       "      <th>pixel3</th>\n",
       "      <th>pixel4</th>\n",
       "      <th>pixel5</th>\n",
       "      <th>pixel6</th>\n",
       "      <th>pixel7</th>\n",
       "      <th>pixel8</th>\n",
       "      <th>...</th>\n",
       "      <th>pixel774</th>\n",
       "      <th>pixel775</th>\n",
       "      <th>pixel776</th>\n",
       "      <th>pixel777</th>\n",
       "      <th>pixel778</th>\n",
       "      <th>pixel779</th>\n",
       "      <th>pixel780</th>\n",
       "      <th>pixel781</th>\n",
       "      <th>pixel782</th>\n",
       "      <th>pixel783</th>\n",
       "    </tr>\n",
       "  </thead>\n",
       "  <tbody>\n",
       "    <tr>\n",
       "      <th>0</th>\n",
       "      <td>1</td>\n",
       "      <td>0</td>\n",
       "      <td>0</td>\n",
       "      <td>0</td>\n",
       "      <td>0</td>\n",
       "      <td>0</td>\n",
       "      <td>0</td>\n",
       "      <td>0</td>\n",
       "      <td>0</td>\n",
       "      <td>0</td>\n",
       "      <td>...</td>\n",
       "      <td>0</td>\n",
       "      <td>0</td>\n",
       "      <td>0</td>\n",
       "      <td>0</td>\n",
       "      <td>0</td>\n",
       "      <td>0</td>\n",
       "      <td>0</td>\n",
       "      <td>0</td>\n",
       "      <td>0</td>\n",
       "      <td>0</td>\n",
       "    </tr>\n",
       "    <tr>\n",
       "      <th>1</th>\n",
       "      <td>0</td>\n",
       "      <td>0</td>\n",
       "      <td>0</td>\n",
       "      <td>0</td>\n",
       "      <td>0</td>\n",
       "      <td>0</td>\n",
       "      <td>0</td>\n",
       "      <td>0</td>\n",
       "      <td>0</td>\n",
       "      <td>0</td>\n",
       "      <td>...</td>\n",
       "      <td>0</td>\n",
       "      <td>0</td>\n",
       "      <td>0</td>\n",
       "      <td>0</td>\n",
       "      <td>0</td>\n",
       "      <td>0</td>\n",
       "      <td>0</td>\n",
       "      <td>0</td>\n",
       "      <td>0</td>\n",
       "      <td>0</td>\n",
       "    </tr>\n",
       "    <tr>\n",
       "      <th>2</th>\n",
       "      <td>1</td>\n",
       "      <td>0</td>\n",
       "      <td>0</td>\n",
       "      <td>0</td>\n",
       "      <td>0</td>\n",
       "      <td>0</td>\n",
       "      <td>0</td>\n",
       "      <td>0</td>\n",
       "      <td>0</td>\n",
       "      <td>0</td>\n",
       "      <td>...</td>\n",
       "      <td>0</td>\n",
       "      <td>0</td>\n",
       "      <td>0</td>\n",
       "      <td>0</td>\n",
       "      <td>0</td>\n",
       "      <td>0</td>\n",
       "      <td>0</td>\n",
       "      <td>0</td>\n",
       "      <td>0</td>\n",
       "      <td>0</td>\n",
       "    </tr>\n",
       "    <tr>\n",
       "      <th>3</th>\n",
       "      <td>4</td>\n",
       "      <td>0</td>\n",
       "      <td>0</td>\n",
       "      <td>0</td>\n",
       "      <td>0</td>\n",
       "      <td>0</td>\n",
       "      <td>0</td>\n",
       "      <td>0</td>\n",
       "      <td>0</td>\n",
       "      <td>0</td>\n",
       "      <td>...</td>\n",
       "      <td>0</td>\n",
       "      <td>0</td>\n",
       "      <td>0</td>\n",
       "      <td>0</td>\n",
       "      <td>0</td>\n",
       "      <td>0</td>\n",
       "      <td>0</td>\n",
       "      <td>0</td>\n",
       "      <td>0</td>\n",
       "      <td>0</td>\n",
       "    </tr>\n",
       "    <tr>\n",
       "      <th>4</th>\n",
       "      <td>0</td>\n",
       "      <td>0</td>\n",
       "      <td>0</td>\n",
       "      <td>0</td>\n",
       "      <td>0</td>\n",
       "      <td>0</td>\n",
       "      <td>0</td>\n",
       "      <td>0</td>\n",
       "      <td>0</td>\n",
       "      <td>0</td>\n",
       "      <td>...</td>\n",
       "      <td>0</td>\n",
       "      <td>0</td>\n",
       "      <td>0</td>\n",
       "      <td>0</td>\n",
       "      <td>0</td>\n",
       "      <td>0</td>\n",
       "      <td>0</td>\n",
       "      <td>0</td>\n",
       "      <td>0</td>\n",
       "      <td>0</td>\n",
       "    </tr>\n",
       "  </tbody>\n",
       "</table>\n",
       "<p>5 rows × 785 columns</p>\n",
       "</div>"
      ],
      "text/plain": [
       "   label  pixel0  pixel1  pixel2  pixel3  pixel4  pixel5  pixel6  pixel7  \\\n",
       "0      1       0       0       0       0       0       0       0       0   \n",
       "1      0       0       0       0       0       0       0       0       0   \n",
       "2      1       0       0       0       0       0       0       0       0   \n",
       "3      4       0       0       0       0       0       0       0       0   \n",
       "4      0       0       0       0       0       0       0       0       0   \n",
       "\n",
       "   pixel8  ...  pixel774  pixel775  pixel776  pixel777  pixel778  pixel779  \\\n",
       "0       0  ...         0         0         0         0         0         0   \n",
       "1       0  ...         0         0         0         0         0         0   \n",
       "2       0  ...         0         0         0         0         0         0   \n",
       "3       0  ...         0         0         0         0         0         0   \n",
       "4       0  ...         0         0         0         0         0         0   \n",
       "\n",
       "   pixel780  pixel781  pixel782  pixel783  \n",
       "0         0         0         0         0  \n",
       "1         0         0         0         0  \n",
       "2         0         0         0         0  \n",
       "3         0         0         0         0  \n",
       "4         0         0         0         0  \n",
       "\n",
       "[5 rows x 785 columns]"
      ]
     },
     "execution_count": 2,
     "metadata": {},
     "output_type": "execute_result"
    }
   ],
   "source": [
    "df = pd.read_csv('CNN Test/train.csv')\n",
    "df.head()"
   ]
  },
  {
   "cell_type": "markdown",
   "metadata": {},
   "source": [
    "# Transform data"
   ]
  },
  {
   "cell_type": "code",
   "execution_count": 3,
   "metadata": {},
   "outputs": [
    {
     "name": "stdout",
     "output_type": "stream",
     "text": [
      "42000 785\n"
     ]
    }
   ],
   "source": [
    "data = np.array(df)\n",
    "m, n = data.shape\n",
    "np.random.shuffle(data) # shuffle before splitting into dev and training sets\n",
    "print(m,n)"
   ]
  },
  {
   "cell_type": "markdown",
   "metadata": {},
   "source": [
    "# Split data"
   ]
  },
  {
   "cell_type": "code",
   "execution_count": 4,
   "metadata": {},
   "outputs": [],
   "source": [
    "data_test = data[0:1000].T\n",
    "Y_test = data_test[0]\n",
    "X_test = data_test[1:n]\n",
    "X_test = X_test / 255.0\n",
    "\n",
    "data_train = data[1000:m].T\n",
    "Y_train = data_train[0]\n",
    "X_train = data_train[1:n]\n",
    "X_train = X_train / 255.0"
   ]
  },
  {
   "cell_type": "markdown",
   "metadata": {},
   "source": [
    "# My CNN"
   ]
  },
  {
   "cell_type": "markdown",
   "metadata": {},
   "source": [
    "## Model"
   ]
  },
  {
   "cell_type": "code",
   "execution_count": 5,
   "metadata": {},
   "outputs": [],
   "source": [
    "from Class.cnn import cnn"
   ]
  },
  {
   "cell_type": "markdown",
   "metadata": {},
   "source": [
    "### Define model"
   ]
  },
  {
   "cell_type": "code",
   "execution_count": 6,
   "metadata": {},
   "outputs": [],
   "source": [
    "mycnn = cnn (inputLayer = 784)"
   ]
  },
  {
   "cell_type": "code",
   "execution_count": 7,
   "metadata": {},
   "outputs": [],
   "source": [
    "mycnn.addLayer(neurons=50)\n",
    "mycnn.addLayer(neurons=20)\n",
    "mycnn.addLayer(neurons=10)"
   ]
  },
  {
   "cell_type": "markdown",
   "metadata": {},
   "source": [
    "### Train"
   ]
  },
  {
   "cell_type": "code",
   "execution_count": 8,
   "metadata": {},
   "outputs": [
    {
     "name": "stdout",
     "output_type": "stream",
     "text": [
      "(784, 41000)\n",
      "(784, 36900)\n",
      "(784, 4100)\n",
      "(41000,)\n",
      "(36900,)\n",
      "(4100,)\n",
      "Final accuracy: \n",
      "0.8228184281842819\n"
     ]
    },
    {
     "data": {
      "image/png": "[encoded data removed]",
      "text/plain": [
       "<Figure size 432x288 with 1 Axes>"
      ]
     },
     "metadata": {
      "needs_background": "light"
     },
     "output_type": "display_data"
    }
   ],
   "source": [
    "history = mycnn.fit(X_train, Y_train, 0.10, 300, validationSplit = 0.1)\n",
    "plt.plot(history['train_accuracy'])\n",
    "plt.plot(history['test_accuracy'])\n",
    "plt.title('model accuracy')\n",
    "plt.ylabel('accuracy')\n",
    "plt.xlabel('epoch')\n",
    "plt.legend(['train', 'validation'], loc='upper left')\n",
    "plt.show()"
   ]
  },
  {
   "cell_type": "markdown",
   "metadata": {},
   "source": [
    "### Test"
   ]
  },
  {
   "cell_type": "code",
   "execution_count": 9,
   "metadata": {},
   "outputs": [
    {
     "name": "stdout",
     "output_type": "stream",
     "text": [
      "Prediction:  [4]\n",
      "Label:  4\n",
      "Prediction:  [3]\n",
      "Label:  3\n",
      "Prediction:  [0]\n",
      "Label:  0\n",
      "Prediction:  [8]\n",
      "Label:  1\n"
     ]
    }
   ],
   "source": [
    "mycnn.test_prediction(0,X_train, Y_train)\n",
    "mycnn.test_prediction(1,X_train, Y_train)\n",
    "mycnn.test_prediction(2,X_train, Y_train)\n",
    "mycnn.test_prediction(3,X_train, Y_train)"
   ]
  },
  {
   "cell_type": "markdown",
   "metadata": {},
   "source": [
    "## Test accuracy"
   ]
  },
  {
   "cell_type": "code",
   "execution_count": 10,
   "metadata": {},
   "outputs": [
    {
     "data": {
      "text/plain": [
       "0.818"
      ]
     },
     "execution_count": 10,
     "metadata": {},
     "output_type": "execute_result"
    }
   ],
   "source": [
    "prediction = mycnn.make_prediction(X_test)\n",
    "mycnn.get_accuracy(prediction, Y_test)"
   ]
  },
  {
   "cell_type": "markdown",
   "metadata": {},
   "source": [
    "## Save model"
   ]
  },
  {
   "cell_type": "code",
   "execution_count": 11,
   "metadata": {},
   "outputs": [],
   "source": [
    "mycnn.saveModel('Weights/testCNN')\n"
   ]
  },
  {
   "cell_type": "markdown",
   "metadata": {},
   "source": [
    "### Load model"
   ]
  },
  {
   "cell_type": "code",
   "execution_count": 12,
   "metadata": {},
   "outputs": [],
   "source": [
    "mycnn2 = cnn(loadModel='Weights/testCNN')"
   ]
  },
  {
   "cell_type": "markdown",
   "metadata": {},
   "source": [
    "### Test load model"
   ]
  },
  {
   "cell_type": "code",
   "execution_count": 13,
   "metadata": {},
   "outputs": [
    {
     "data": {
      "text/plain": [
       "0.818"
      ]
     },
     "execution_count": 13,
     "metadata": {},
     "output_type": "execute_result"
    }
   ],
   "source": [
    "prediction = mycnn2.make_prediction(X_test)\n",
    "mycnn2.get_accuracy(prediction, Y_test)"
   ]
  },
  {
   "cell_type": "markdown",
   "metadata": {},
   "source": [
    "# Keras CNN"
   ]
  },
  {
   "cell_type": "markdown",
   "metadata": {},
   "source": [
    "## Prepare data"
   ]
  },
  {
   "cell_type": "code",
   "execution_count": 14,
   "metadata": {},
   "outputs": [
    {
     "data": {
      "text/html": [
       "<div>\n",
       "<style scoped>\n",
       "    .dataframe tbody tr th:only-of-type {\n",
       "        vertical-align: middle;\n",
       "    }\n",
       "\n",
       "    .dataframe tbody tr th {\n",
       "        vertical-align: top;\n",
       "    }\n",
       "\n",
       "    .dataframe thead th {\n",
       "        text-align: right;\n",
       "    }\n",
       "</style>\n",
       "<table border=\"1\" class=\"dataframe\">\n",
       "  <thead>\n",
       "    <tr style=\"text-align: right;\">\n",
       "      <th></th>\n",
       "      <th>0</th>\n",
       "    </tr>\n",
       "  </thead>\n",
       "  <tbody>\n",
       "    <tr>\n",
       "      <th>0</th>\n",
       "      <td>4</td>\n",
       "    </tr>\n",
       "    <tr>\n",
       "      <th>1</th>\n",
       "      <td>3</td>\n",
       "    </tr>\n",
       "    <tr>\n",
       "      <th>2</th>\n",
       "      <td>0</td>\n",
       "    </tr>\n",
       "    <tr>\n",
       "      <th>3</th>\n",
       "      <td>1</td>\n",
       "    </tr>\n",
       "    <tr>\n",
       "      <th>4</th>\n",
       "      <td>7</td>\n",
       "    </tr>\n",
       "    <tr>\n",
       "      <th>...</th>\n",
       "      <td>...</td>\n",
       "    </tr>\n",
       "    <tr>\n",
       "      <th>40995</th>\n",
       "      <td>3</td>\n",
       "    </tr>\n",
       "    <tr>\n",
       "      <th>40996</th>\n",
       "      <td>1</td>\n",
       "    </tr>\n",
       "    <tr>\n",
       "      <th>40997</th>\n",
       "      <td>0</td>\n",
       "    </tr>\n",
       "    <tr>\n",
       "      <th>40998</th>\n",
       "      <td>0</td>\n",
       "    </tr>\n",
       "    <tr>\n",
       "      <th>40999</th>\n",
       "      <td>4</td>\n",
       "    </tr>\n",
       "  </tbody>\n",
       "</table>\n",
       "<p>41000 rows × 1 columns</p>\n",
       "</div>"
      ],
      "text/plain": [
       "       0\n",
       "0      4\n",
       "1      3\n",
       "2      0\n",
       "3      1\n",
       "4      7\n",
       "...   ..\n",
       "40995  3\n",
       "40996  1\n",
       "40997  0\n",
       "40998  0\n",
       "40999  4\n",
       "\n",
       "[41000 rows x 1 columns]"
      ]
     },
     "execution_count": 14,
     "metadata": {},
     "output_type": "execute_result"
    }
   ],
   "source": [
    "x_test = pd.DataFrame(X_test.T)\n",
    "x_test\n",
    "y_test = pd.DataFrame(Y_test.T)\n",
    "y_test\n",
    "x_train = pd.DataFrame(X_train.T)\n",
    "x_train\n",
    "y_train = pd.DataFrame(Y_train.T)\n",
    "y_train\n"
   ]
  },
  {
   "cell_type": "markdown",
   "metadata": {},
   "source": [
    "## Library"
   ]
  },
  {
   "cell_type": "code",
   "execution_count": 15,
   "metadata": {},
   "outputs": [],
   "source": [
    "from tensorflow.keras.models import Sequential, load_model\n",
    "from tensorflow.keras.layers import Dense\n",
    "from sklearn.metrics import accuracy_score"
   ]
  },
  {
   "cell_type": "markdown",
   "metadata": {},
   "source": [
    "## Define model"
   ]
  },
  {
   "cell_type": "code",
   "execution_count": 16,
   "metadata": {},
   "outputs": [],
   "source": [
    "model = Sequential()\n",
    "model.add(Dense(units=50, activation='relu', input_dim=len(x_train.columns)))\n",
    "model.add(Dense(units=20, activation='relu'))\n",
    "model.add(Dense(units=10, activation='softmax'))\n",
    "model.compile(loss='sparse_categorical_crossentropy', optimizer='Adam', metrics=['accuracy'])\n"
   ]
  },
  {
   "cell_type": "markdown",
   "metadata": {},
   "source": [
    "## Train model"
   ]
  },
  {
   "cell_type": "code",
   "execution_count": 17,
   "metadata": {},
   "outputs": [
    {
     "name": "stdout",
     "output_type": "stream",
     "text": [
      "Epoch 1/150\n",
      "33/33 [==============================] - 0s 14ms/step - loss: 1.6011 - accuracy: 0.5308 - val_loss: 0.8696 - val_accuracy: 0.8057\n",
      "Epoch 2/150\n",
      "33/33 [==============================] - 0s 7ms/step - loss: 0.6279 - accuracy: 0.8481 - val_loss: 0.4469 - val_accuracy: 0.8843\n",
      "Epoch 3/150\n",
      "33/33 [==============================] - 0s 8ms/step - loss: 0.4065 - accuracy: 0.8928 - val_loss: 0.3454 - val_accuracy: 0.9055\n",
      "Epoch 4/150\n",
      "33/33 [==============================] - 0s 7ms/step - loss: 0.3350 - accuracy: 0.9085 - val_loss: 0.2959 - val_accuracy: 0.9189\n",
      "Epoch 5/150\n",
      "33/33 [==============================] - 0s 8ms/step - loss: 0.2944 - accuracy: 0.9186 - val_loss: 0.2691 - val_accuracy: 0.9245\n",
      "Epoch 6/150\n",
      "33/33 [==============================] - 0s 8ms/step - loss: 0.2659 - accuracy: 0.9269 - val_loss: 0.2456 - val_accuracy: 0.9326\n",
      "Epoch 7/150\n",
      "33/33 [==============================] - 0s 8ms/step - loss: 0.2437 - accuracy: 0.9321 - val_loss: 0.2309 - val_accuracy: 0.9343\n",
      "Epoch 8/150\n",
      "33/33 [==============================] - 0s 8ms/step - loss: 0.2268 - accuracy: 0.9371 - val_loss: 0.2187 - val_accuracy: 0.9388\n",
      "Epoch 9/150\n",
      "33/33 [==============================] - 0s 10ms/step - loss: 0.2132 - accuracy: 0.9408 - val_loss: 0.2072 - val_accuracy: 0.9415\n",
      "Epoch 10/150\n",
      "33/33 [==============================] - 0s 8ms/step - loss: 0.1995 - accuracy: 0.9441 - val_loss: 0.1994 - val_accuracy: 0.9426\n",
      "Epoch 11/150\n",
      "33/33 [==============================] - 0s 8ms/step - loss: 0.1877 - accuracy: 0.9465 - val_loss: 0.1920 - val_accuracy: 0.9432\n",
      "Epoch 12/150\n",
      "33/33 [==============================] - 0s 8ms/step - loss: 0.1773 - accuracy: 0.9497 - val_loss: 0.1836 - val_accuracy: 0.9470\n",
      "Epoch 13/150\n",
      "33/33 [==============================] - 0s 8ms/step - loss: 0.1677 - accuracy: 0.9527 - val_loss: 0.1781 - val_accuracy: 0.9478\n",
      "Epoch 14/150\n",
      "33/33 [==============================] - 0s 7ms/step - loss: 0.1612 - accuracy: 0.9546 - val_loss: 0.1768 - val_accuracy: 0.9499\n",
      "Epoch 15/150\n",
      "33/33 [==============================] - 0s 7ms/step - loss: 0.1525 - accuracy: 0.9568 - val_loss: 0.1668 - val_accuracy: 0.9518\n",
      "Epoch 16/150\n",
      "33/33 [==============================] - 0s 8ms/step - loss: 0.1447 - accuracy: 0.9601 - val_loss: 0.1618 - val_accuracy: 0.9524\n",
      "Epoch 17/150\n",
      "33/33 [==============================] - 0s 8ms/step - loss: 0.1385 - accuracy: 0.9613 - val_loss: 0.1602 - val_accuracy: 0.9526\n",
      "Epoch 18/150\n",
      "33/33 [==============================] - 0s 7ms/step - loss: 0.1325 - accuracy: 0.9634 - val_loss: 0.1542 - val_accuracy: 0.9560\n",
      "Epoch 19/150\n",
      "33/33 [==============================] - 0s 7ms/step - loss: 0.1261 - accuracy: 0.9649 - val_loss: 0.1524 - val_accuracy: 0.9552\n",
      "Epoch 20/150\n",
      "33/33 [==============================] - 0s 7ms/step - loss: 0.1206 - accuracy: 0.9665 - val_loss: 0.1480 - val_accuracy: 0.9566\n",
      "Epoch 21/150\n",
      "33/33 [==============================] - 0s 8ms/step - loss: 0.1160 - accuracy: 0.9680 - val_loss: 0.1460 - val_accuracy: 0.9567\n",
      "Epoch 22/150\n",
      "33/33 [==============================] - 0s 8ms/step - loss: 0.1112 - accuracy: 0.9691 - val_loss: 0.1417 - val_accuracy: 0.9594\n",
      "Epoch 23/150\n",
      "33/33 [==============================] - 0s 8ms/step - loss: 0.1066 - accuracy: 0.9705 - val_loss: 0.1381 - val_accuracy: 0.9594\n",
      "Epoch 24/150\n",
      "33/33 [==============================] - 0s 8ms/step - loss: 0.1036 - accuracy: 0.9713 - val_loss: 0.1422 - val_accuracy: 0.9589\n",
      "Epoch 25/150\n",
      "33/33 [==============================] - 0s 8ms/step - loss: 0.0981 - accuracy: 0.9723 - val_loss: 0.1331 - val_accuracy: 0.9611\n",
      "Epoch 26/150\n",
      "33/33 [==============================] - 0s 8ms/step - loss: 0.0942 - accuracy: 0.9738 - val_loss: 0.1315 - val_accuracy: 0.9612\n",
      "Epoch 27/150\n",
      "33/33 [==============================] - 0s 10ms/step - loss: 0.0899 - accuracy: 0.9755 - val_loss: 0.1290 - val_accuracy: 0.9610\n",
      "Epoch 28/150\n",
      "33/33 [==============================] - 0s 9ms/step - loss: 0.0873 - accuracy: 0.9758 - val_loss: 0.1283 - val_accuracy: 0.9623\n",
      "Epoch 29/150\n",
      "33/33 [==============================] - 0s 8ms/step - loss: 0.0854 - accuracy: 0.9770 - val_loss: 0.1272 - val_accuracy: 0.9615\n",
      "Epoch 30/150\n",
      "33/33 [==============================] - 0s 8ms/step - loss: 0.0815 - accuracy: 0.9777 - val_loss: 0.1275 - val_accuracy: 0.9620\n",
      "Epoch 31/150\n",
      "33/33 [==============================] - 0s 8ms/step - loss: 0.0778 - accuracy: 0.9795 - val_loss: 0.1230 - val_accuracy: 0.9638\n",
      "Epoch 32/150\n",
      "33/33 [==============================] - 0s 7ms/step - loss: 0.0748 - accuracy: 0.9801 - val_loss: 0.1215 - val_accuracy: 0.9640\n",
      "Epoch 33/150\n",
      "33/33 [==============================] - 0s 7ms/step - loss: 0.0720 - accuracy: 0.9804 - val_loss: 0.1222 - val_accuracy: 0.9656\n",
      "Epoch 34/150\n",
      "33/33 [==============================] - 0s 8ms/step - loss: 0.0703 - accuracy: 0.9812 - val_loss: 0.1207 - val_accuracy: 0.9650\n",
      "Epoch 35/150\n",
      "33/33 [==============================] - 0s 8ms/step - loss: 0.0674 - accuracy: 0.9825 - val_loss: 0.1196 - val_accuracy: 0.9650\n",
      "Epoch 36/150\n",
      "33/33 [==============================] - 0s 8ms/step - loss: 0.0651 - accuracy: 0.9824 - val_loss: 0.1206 - val_accuracy: 0.9651\n",
      "Epoch 37/150\n",
      "33/33 [==============================] - 0s 7ms/step - loss: 0.0626 - accuracy: 0.9831 - val_loss: 0.1185 - val_accuracy: 0.9648\n",
      "Epoch 38/150\n",
      "33/33 [==============================] - 0s 7ms/step - loss: 0.0606 - accuracy: 0.9837 - val_loss: 0.1173 - val_accuracy: 0.9659\n",
      "Epoch 39/150\n",
      "33/33 [==============================] - 0s 8ms/step - loss: 0.0588 - accuracy: 0.9840 - val_loss: 0.1156 - val_accuracy: 0.9659\n",
      "Epoch 40/150\n",
      "33/33 [==============================] - 0s 7ms/step - loss: 0.0564 - accuracy: 0.9846 - val_loss: 0.1159 - val_accuracy: 0.9660\n",
      "Epoch 41/150\n",
      "33/33 [==============================] - 0s 7ms/step - loss: 0.0542 - accuracy: 0.9860 - val_loss: 0.1161 - val_accuracy: 0.9657\n",
      "Epoch 42/150\n",
      "33/33 [==============================] - 0s 7ms/step - loss: 0.0526 - accuracy: 0.9860 - val_loss: 0.1161 - val_accuracy: 0.9661\n",
      "Epoch 43/150\n",
      "33/33 [==============================] - 0s 8ms/step - loss: 0.0515 - accuracy: 0.9863 - val_loss: 0.1146 - val_accuracy: 0.9668\n",
      "Epoch 44/150\n",
      "33/33 [==============================] - 0s 8ms/step - loss: 0.0492 - accuracy: 0.9870 - val_loss: 0.1148 - val_accuracy: 0.9667\n",
      "Epoch 45/150\n",
      "33/33 [==============================] - 0s 8ms/step - loss: 0.0472 - accuracy: 0.9879 - val_loss: 0.1147 - val_accuracy: 0.9665\n",
      "Epoch 46/150\n",
      "33/33 [==============================] - 0s 9ms/step - loss: 0.0456 - accuracy: 0.9884 - val_loss: 0.1152 - val_accuracy: 0.9668\n",
      "Epoch 47/150\n",
      "33/33 [==============================] - 0s 9ms/step - loss: 0.0447 - accuracy: 0.9880 - val_loss: 0.1143 - val_accuracy: 0.9673\n",
      "Epoch 48/150\n",
      "33/33 [==============================] - 0s 9ms/step - loss: 0.0424 - accuracy: 0.9891 - val_loss: 0.1147 - val_accuracy: 0.9674\n",
      "Epoch 49/150\n",
      "33/33 [==============================] - 0s 8ms/step - loss: 0.0414 - accuracy: 0.9891 - val_loss: 0.1137 - val_accuracy: 0.9682\n",
      "Epoch 50/150\n",
      "33/33 [==============================] - 0s 7ms/step - loss: 0.0400 - accuracy: 0.9889 - val_loss: 0.1132 - val_accuracy: 0.9683\n",
      "Epoch 51/150\n",
      "33/33 [==============================] - 0s 7ms/step - loss: 0.0380 - accuracy: 0.9905 - val_loss: 0.1150 - val_accuracy: 0.9674\n",
      "Epoch 52/150\n",
      "33/33 [==============================] - 0s 8ms/step - loss: 0.0371 - accuracy: 0.9908 - val_loss: 0.1159 - val_accuracy: 0.9663\n",
      "Epoch 53/150\n",
      "33/33 [==============================] - 0s 8ms/step - loss: 0.0362 - accuracy: 0.9909 - val_loss: 0.1131 - val_accuracy: 0.9674\n",
      "Epoch 54/150\n",
      "33/33 [==============================] - 0s 7ms/step - loss: 0.0349 - accuracy: 0.9912 - val_loss: 0.1153 - val_accuracy: 0.9680\n",
      "Epoch 55/150\n",
      "33/33 [==============================] - 0s 7ms/step - loss: 0.0340 - accuracy: 0.9920 - val_loss: 0.1152 - val_accuracy: 0.9668\n",
      "Epoch 56/150\n",
      "33/33 [==============================] - 0s 7ms/step - loss: 0.0331 - accuracy: 0.9923 - val_loss: 0.1165 - val_accuracy: 0.9674\n",
      "Epoch 57/150\n",
      "33/33 [==============================] - 0s 9ms/step - loss: 0.0309 - accuracy: 0.9928 - val_loss: 0.1157 - val_accuracy: 0.9670\n",
      "Epoch 58/150\n",
      "33/33 [==============================] - 0s 8ms/step - loss: 0.0304 - accuracy: 0.9930 - val_loss: 0.1154 - val_accuracy: 0.9678\n",
      "Epoch 59/150\n",
      "33/33 [==============================] - 0s 8ms/step - loss: 0.0298 - accuracy: 0.9931 - val_loss: 0.1172 - val_accuracy: 0.9670\n",
      "Epoch 60/150\n",
      "33/33 [==============================] - 0s 7ms/step - loss: 0.0284 - accuracy: 0.9934 - val_loss: 0.1169 - val_accuracy: 0.9677\n",
      "Epoch 61/150\n",
      "33/33 [==============================] - 0s 7ms/step - loss: 0.0272 - accuracy: 0.9940 - val_loss: 0.1164 - val_accuracy: 0.9670\n",
      "Epoch 62/150\n",
      "33/33 [==============================] - 0s 9ms/step - loss: 0.0262 - accuracy: 0.9946 - val_loss: 0.1175 - val_accuracy: 0.9673\n",
      "Epoch 63/150\n",
      "33/33 [==============================] - 0s 7ms/step - loss: 0.0251 - accuracy: 0.9949 - val_loss: 0.1177 - val_accuracy: 0.9682\n",
      "Epoch 64/150\n",
      "33/33 [==============================] - 0s 8ms/step - loss: 0.0245 - accuracy: 0.9948 - val_loss: 0.1173 - val_accuracy: 0.9679\n",
      "Epoch 65/150\n",
      "33/33 [==============================] - 0s 9ms/step - loss: 0.0233 - accuracy: 0.9955 - val_loss: 0.1171 - val_accuracy: 0.9684\n",
      "Epoch 66/150\n",
      "33/33 [==============================] - 0s 9ms/step - loss: 0.0226 - accuracy: 0.9956 - val_loss: 0.1215 - val_accuracy: 0.9674\n",
      "Epoch 67/150\n",
      "33/33 [==============================] - 0s 8ms/step - loss: 0.0221 - accuracy: 0.9959 - val_loss: 0.1197 - val_accuracy: 0.9687\n",
      "Epoch 68/150\n",
      "33/33 [==============================] - 0s 7ms/step - loss: 0.0212 - accuracy: 0.9960 - val_loss: 0.1209 - val_accuracy: 0.9673\n",
      "Epoch 69/150\n",
      "33/33 [==============================] - 0s 7ms/step - loss: 0.0202 - accuracy: 0.9964 - val_loss: 0.1208 - val_accuracy: 0.9672\n",
      "Epoch 70/150\n",
      "33/33 [==============================] - 0s 8ms/step - loss: 0.0196 - accuracy: 0.9965 - val_loss: 0.1222 - val_accuracy: 0.9667\n",
      "Epoch 71/150\n",
      "33/33 [==============================] - 0s 9ms/step - loss: 0.0186 - accuracy: 0.9970 - val_loss: 0.1211 - val_accuracy: 0.9687\n",
      "Epoch 72/150\n",
      "33/33 [==============================] - 0s 8ms/step - loss: 0.0179 - accuracy: 0.9971 - val_loss: 0.1208 - val_accuracy: 0.9672\n",
      "Epoch 73/150\n",
      "33/33 [==============================] - 0s 7ms/step - loss: 0.0178 - accuracy: 0.9973 - val_loss: 0.1228 - val_accuracy: 0.9684\n",
      "Epoch 74/150\n",
      "33/33 [==============================] - 0s 8ms/step - loss: 0.0169 - accuracy: 0.9973 - val_loss: 0.1224 - val_accuracy: 0.9684\n",
      "Epoch 75/150\n",
      "33/33 [==============================] - 0s 8ms/step - loss: 0.0161 - accuracy: 0.9976 - val_loss: 0.1237 - val_accuracy: 0.9678\n",
      "Epoch 76/150\n",
      "33/33 [==============================] - 0s 8ms/step - loss: 0.0157 - accuracy: 0.9976 - val_loss: 0.1246 - val_accuracy: 0.9671\n",
      "Epoch 77/150\n",
      "33/33 [==============================] - 0s 8ms/step - loss: 0.0154 - accuracy: 0.9977 - val_loss: 0.1253 - val_accuracy: 0.9668\n",
      "Epoch 78/150\n",
      "33/33 [==============================] - 0s 7ms/step - loss: 0.0148 - accuracy: 0.9980 - val_loss: 0.1247 - val_accuracy: 0.9685\n",
      "Epoch 79/150\n",
      "33/33 [==============================] - 0s 8ms/step - loss: 0.0138 - accuracy: 0.9984 - val_loss: 0.1264 - val_accuracy: 0.9667\n",
      "Epoch 80/150\n",
      "33/33 [==============================] - 0s 9ms/step - loss: 0.0145 - accuracy: 0.9977 - val_loss: 0.1270 - val_accuracy: 0.9672\n",
      "Epoch 81/150\n",
      "33/33 [==============================] - 0s 8ms/step - loss: 0.0136 - accuracy: 0.9980 - val_loss: 0.1269 - val_accuracy: 0.9680\n",
      "Epoch 82/150\n",
      "33/33 [==============================] - 0s 8ms/step - loss: 0.0127 - accuracy: 0.9986 - val_loss: 0.1275 - val_accuracy: 0.9676\n",
      "Epoch 83/150\n",
      "33/33 [==============================] - 0s 9ms/step - loss: 0.0124 - accuracy: 0.9988 - val_loss: 0.1281 - val_accuracy: 0.9672\n",
      "Epoch 84/150\n",
      "33/33 [==============================] - 0s 9ms/step - loss: 0.0117 - accuracy: 0.9990 - val_loss: 0.1294 - val_accuracy: 0.9682\n",
      "Epoch 85/150\n",
      "33/33 [==============================] - 0s 8ms/step - loss: 0.0112 - accuracy: 0.9990 - val_loss: 0.1293 - val_accuracy: 0.9678\n",
      "Epoch 86/150\n",
      "33/33 [==============================] - 0s 7ms/step - loss: 0.0110 - accuracy: 0.9991 - val_loss: 0.1308 - val_accuracy: 0.9676\n",
      "Epoch 87/150\n",
      "33/33 [==============================] - 0s 9ms/step - loss: 0.0109 - accuracy: 0.9990 - val_loss: 0.1299 - val_accuracy: 0.9680\n",
      "Epoch 88/150\n",
      "33/33 [==============================] - 0s 8ms/step - loss: 0.0109 - accuracy: 0.9991 - val_loss: 0.1342 - val_accuracy: 0.9678\n",
      "Epoch 89/150\n",
      "33/33 [==============================] - 0s 8ms/step - loss: 0.0100 - accuracy: 0.9993 - val_loss: 0.1319 - val_accuracy: 0.9667\n",
      "Epoch 90/150\n",
      "33/33 [==============================] - 0s 7ms/step - loss: 0.0093 - accuracy: 0.9994 - val_loss: 0.1337 - val_accuracy: 0.9678\n",
      "Epoch 91/150\n",
      "33/33 [==============================] - 0s 7ms/step - loss: 0.0087 - accuracy: 0.9996 - val_loss: 0.1338 - val_accuracy: 0.9677\n",
      "Epoch 92/150\n",
      "33/33 [==============================] - 0s 8ms/step - loss: 0.0087 - accuracy: 0.9996 - val_loss: 0.1333 - val_accuracy: 0.9666\n",
      "Epoch 93/150\n",
      "33/33 [==============================] - 0s 8ms/step - loss: 0.0085 - accuracy: 0.9996 - val_loss: 0.1361 - val_accuracy: 0.9680\n",
      "Epoch 94/150\n",
      "33/33 [==============================] - 0s 7ms/step - loss: 0.0084 - accuracy: 0.9995 - val_loss: 0.1357 - val_accuracy: 0.9671\n",
      "Epoch 95/150\n",
      "33/33 [==============================] - 0s 7ms/step - loss: 0.0079 - accuracy: 0.9997 - val_loss: 0.1366 - val_accuracy: 0.9656\n",
      "Epoch 96/150\n",
      "33/33 [==============================] - 0s 8ms/step - loss: 0.0076 - accuracy: 0.9996 - val_loss: 0.1364 - val_accuracy: 0.9677\n",
      "Epoch 97/150\n",
      "33/33 [==============================] - 0s 8ms/step - loss: 0.0071 - accuracy: 0.9998 - val_loss: 0.1378 - val_accuracy: 0.9670\n",
      "Epoch 98/150\n",
      "33/33 [==============================] - 0s 8ms/step - loss: 0.0073 - accuracy: 0.9997 - val_loss: 0.1391 - val_accuracy: 0.9674\n",
      "Epoch 99/150\n",
      "33/33 [==============================] - 0s 7ms/step - loss: 0.0070 - accuracy: 0.9997 - val_loss: 0.1386 - val_accuracy: 0.9685\n",
      "Epoch 100/150\n",
      "33/33 [==============================] - 0s 7ms/step - loss: 0.0065 - accuracy: 0.9998 - val_loss: 0.1388 - val_accuracy: 0.9677\n",
      "Epoch 101/150\n",
      "33/33 [==============================] - 0s 10ms/step - loss: 0.0062 - accuracy: 0.9999 - val_loss: 0.1394 - val_accuracy: 0.9678\n",
      "Epoch 102/150\n",
      "33/33 [==============================] - 0s 11ms/step - loss: 0.0062 - accuracy: 0.9998 - val_loss: 0.1400 - val_accuracy: 0.9676\n",
      "Epoch 103/150\n",
      "33/33 [==============================] - 0s 8ms/step - loss: 0.0058 - accuracy: 0.9999 - val_loss: 0.1402 - val_accuracy: 0.9679\n",
      "Epoch 104/150\n",
      "33/33 [==============================] - 0s 10ms/step - loss: 0.0059 - accuracy: 0.9998 - val_loss: 0.1419 - val_accuracy: 0.9676\n",
      "Epoch 105/150\n",
      "33/33 [==============================] - 0s 10ms/step - loss: 0.0056 - accuracy: 0.9999 - val_loss: 0.1429 - val_accuracy: 0.9682\n",
      "Epoch 106/150\n",
      "33/33 [==============================] - 0s 9ms/step - loss: 0.0055 - accuracy: 0.9999 - val_loss: 0.1434 - val_accuracy: 0.9678\n",
      "Epoch 107/150\n",
      "33/33 [==============================] - 0s 8ms/step - loss: 0.0050 - accuracy: 1.0000 - val_loss: 0.1438 - val_accuracy: 0.9673\n",
      "Epoch 108/150\n",
      "33/33 [==============================] - 0s 7ms/step - loss: 0.0049 - accuracy: 1.0000 - val_loss: 0.1446 - val_accuracy: 0.9674\n",
      "Epoch 109/150\n",
      "33/33 [==============================] - 0s 9ms/step - loss: 0.0047 - accuracy: 1.0000 - val_loss: 0.1449 - val_accuracy: 0.9677\n",
      "Epoch 110/150\n",
      "33/33 [==============================] - 0s 12ms/step - loss: 0.0045 - accuracy: 1.0000 - val_loss: 0.1453 - val_accuracy: 0.9676\n",
      "Epoch 111/150\n",
      "33/33 [==============================] - 0s 9ms/step - loss: 0.0043 - accuracy: 1.0000 - val_loss: 0.1474 - val_accuracy: 0.9685\n",
      "Epoch 112/150\n",
      "33/33 [==============================] - 0s 8ms/step - loss: 0.0043 - accuracy: 1.0000 - val_loss: 0.1480 - val_accuracy: 0.9680\n",
      "Epoch 113/150\n",
      "33/33 [==============================] - 0s 9ms/step - loss: 0.0042 - accuracy: 1.0000 - val_loss: 0.1488 - val_accuracy: 0.9676\n",
      "Epoch 114/150\n",
      "33/33 [==============================] - 0s 8ms/step - loss: 0.0041 - accuracy: 1.0000 - val_loss: 0.1487 - val_accuracy: 0.9684\n",
      "Epoch 115/150\n",
      "33/33 [==============================] - 0s 7ms/step - loss: 0.0039 - accuracy: 1.0000 - val_loss: 0.1489 - val_accuracy: 0.9680\n",
      "Epoch 116/150\n",
      "33/33 [==============================] - 0s 7ms/step - loss: 0.0039 - accuracy: 1.0000 - val_loss: 0.1509 - val_accuracy: 0.9677\n",
      "Epoch 117/150\n",
      "33/33 [==============================] - 0s 8ms/step - loss: 0.0037 - accuracy: 1.0000 - val_loss: 0.1513 - val_accuracy: 0.9672\n",
      "Epoch 118/150\n",
      "33/33 [==============================] - 0s 11ms/step - loss: 0.0036 - accuracy: 1.0000 - val_loss: 0.1515 - val_accuracy: 0.9668\n",
      "Epoch 119/150\n",
      "33/33 [==============================] - 0s 10ms/step - loss: 0.0034 - accuracy: 1.0000 - val_loss: 0.1520 - val_accuracy: 0.9682\n",
      "Epoch 120/150\n",
      "33/33 [==============================] - 0s 9ms/step - loss: 0.0033 - accuracy: 1.0000 - val_loss: 0.1532 - val_accuracy: 0.9680\n",
      "Epoch 121/150\n",
      "33/33 [==============================] - 0s 8ms/step - loss: 0.0033 - accuracy: 1.0000 - val_loss: 0.1542 - val_accuracy: 0.9682\n",
      "Epoch 122/150\n",
      "33/33 [==============================] - 0s 8ms/step - loss: 0.0031 - accuracy: 1.0000 - val_loss: 0.1538 - val_accuracy: 0.9683\n",
      "Epoch 123/150\n",
      "33/33 [==============================] - 0s 9ms/step - loss: 0.0030 - accuracy: 1.0000 - val_loss: 0.1549 - val_accuracy: 0.9676\n",
      "Epoch 124/150\n",
      "33/33 [==============================] - 0s 8ms/step - loss: 0.0029 - accuracy: 1.0000 - val_loss: 0.1546 - val_accuracy: 0.9678\n",
      "Epoch 125/150\n",
      "33/33 [==============================] - 0s 8ms/step - loss: 0.0029 - accuracy: 1.0000 - val_loss: 0.1568 - val_accuracy: 0.9680\n",
      "Epoch 126/150\n",
      "33/33 [==============================] - 0s 8ms/step - loss: 0.0027 - accuracy: 1.0000 - val_loss: 0.1569 - val_accuracy: 0.9676\n",
      "Epoch 127/150\n",
      "33/33 [==============================] - 0s 9ms/step - loss: 0.0026 - accuracy: 1.0000 - val_loss: 0.1570 - val_accuracy: 0.9676\n",
      "Epoch 128/150\n",
      "33/33 [==============================] - 0s 8ms/step - loss: 0.0025 - accuracy: 1.0000 - val_loss: 0.1580 - val_accuracy: 0.9672\n",
      "Epoch 129/150\n",
      "33/33 [==============================] - 0s 8ms/step - loss: 0.0025 - accuracy: 1.0000 - val_loss: 0.1591 - val_accuracy: 0.9678\n",
      "Epoch 130/150\n",
      "33/33 [==============================] - 0s 11ms/step - loss: 0.0024 - accuracy: 1.0000 - val_loss: 0.1586 - val_accuracy: 0.9672\n",
      "Epoch 131/150\n",
      "33/33 [==============================] - 0s 9ms/step - loss: 0.0023 - accuracy: 1.0000 - val_loss: 0.1598 - val_accuracy: 0.9678\n",
      "Epoch 132/150\n",
      "33/33 [==============================] - 0s 8ms/step - loss: 0.0023 - accuracy: 1.0000 - val_loss: 0.1603 - val_accuracy: 0.9668\n",
      "Epoch 133/150\n",
      "33/33 [==============================] - 0s 9ms/step - loss: 0.0022 - accuracy: 1.0000 - val_loss: 0.1607 - val_accuracy: 0.9674\n",
      "Epoch 134/150\n",
      "33/33 [==============================] - 0s 14ms/step - loss: 0.0022 - accuracy: 1.0000 - val_loss: 0.1609 - val_accuracy: 0.9676\n",
      "Epoch 135/150\n",
      "33/33 [==============================] - 0s 11ms/step - loss: 0.0021 - accuracy: 1.0000 - val_loss: 0.1621 - val_accuracy: 0.9673\n",
      "Epoch 136/150\n",
      "33/33 [==============================] - 0s 9ms/step - loss: 0.0022 - accuracy: 1.0000 - val_loss: 0.1642 - val_accuracy: 0.9678\n",
      "Epoch 137/150\n",
      "33/33 [==============================] - 0s 10ms/step - loss: 0.0020 - accuracy: 1.0000 - val_loss: 0.1635 - val_accuracy: 0.9676\n",
      "Epoch 138/150\n",
      "33/33 [==============================] - 0s 10ms/step - loss: 0.0019 - accuracy: 1.0000 - val_loss: 0.1639 - val_accuracy: 0.9676\n",
      "Epoch 139/150\n",
      "33/33 [==============================] - 0s 13ms/step - loss: 0.0019 - accuracy: 1.0000 - val_loss: 0.1651 - val_accuracy: 0.9676\n",
      "Epoch 140/150\n",
      "33/33 [==============================] - 0s 9ms/step - loss: 0.0018 - accuracy: 1.0000 - val_loss: 0.1649 - val_accuracy: 0.9678\n",
      "Epoch 141/150\n",
      "33/33 [==============================] - 0s 10ms/step - loss: 0.0018 - accuracy: 1.0000 - val_loss: 0.1672 - val_accuracy: 0.9672\n",
      "Epoch 142/150\n",
      "33/33 [==============================] - 0s 10ms/step - loss: 0.0018 - accuracy: 1.0000 - val_loss: 0.1668 - val_accuracy: 0.9674\n",
      "Epoch 143/150\n",
      "33/33 [==============================] - 0s 9ms/step - loss: 0.0017 - accuracy: 1.0000 - val_loss: 0.1670 - val_accuracy: 0.9676\n",
      "Epoch 144/150\n",
      "33/33 [==============================] - 0s 10ms/step - loss: 0.0016 - accuracy: 1.0000 - val_loss: 0.1676 - val_accuracy: 0.9678\n",
      "Epoch 145/150\n",
      "33/33 [==============================] - 0s 10ms/step - loss: 0.0016 - accuracy: 1.0000 - val_loss: 0.1688 - val_accuracy: 0.9674\n",
      "Epoch 146/150\n",
      "33/33 [==============================] - 0s 10ms/step - loss: 0.0015 - accuracy: 1.0000 - val_loss: 0.1689 - val_accuracy: 0.9677\n",
      "Epoch 147/150\n",
      "33/33 [==============================] - 0s 9ms/step - loss: 0.0015 - accuracy: 1.0000 - val_loss: 0.1706 - val_accuracy: 0.9673\n",
      "Epoch 148/150\n",
      "33/33 [==============================] - 0s 8ms/step - loss: 0.0015 - accuracy: 1.0000 - val_loss: 0.1702 - val_accuracy: 0.9673\n",
      "Epoch 149/150\n",
      "33/33 [==============================] - 0s 12ms/step - loss: 0.0014 - accuracy: 1.0000 - val_loss: 0.1722 - val_accuracy: 0.9673\n",
      "Epoch 150/150\n",
      "33/33 [==============================] - 0s 9ms/step - loss: 0.0014 - accuracy: 1.0000 - val_loss: 0.1716 - val_accuracy: 0.9680\n"
     ]
    }
   ],
   "source": [
    "\n",
    "history = model.fit(x_train, y_train,validation_split=0.20, epochs=150, verbose=1, batch_size=1000)\n"
   ]
  },
  {
   "cell_type": "code",
   "execution_count": 18,
   "metadata": {},
   "outputs": [
    {
     "data": {
      "image/png": "[encoded data removed]",
      "text/plain": [
       "<Figure size 432x288 with 1 Axes>"
      ]
     },
     "metadata": {
      "needs_background": "light"
     },
     "output_type": "display_data"
    }
   ],
   "source": [
    "plt.plot(history.history['accuracy'])\n",
    "plt.plot(history.history['val_accuracy'])\n",
    "plt.title('model accuracy')\n",
    "plt.ylabel('accuracy')\n",
    "plt.xlabel('epoch')\n",
    "plt.legend(['train', 'validation'], loc='upper left')\n",
    "plt.show()"
   ]
  },
  {
   "cell_type": "markdown",
   "metadata": {},
   "source": [
    "## Test accuracy"
   ]
  },
  {
   "cell_type": "code",
   "execution_count": 19,
   "metadata": {},
   "outputs": [
    {
     "name": "stdout",
     "output_type": "stream",
     "text": [
      "WARNING:tensorflow:From C:\\Users\\alegg\\AppData\\Local\\Temp/ipykernel_20320/3675219175.py:1: Sequential.predict_classes (from tensorflow.python.keras.engine.sequential) is deprecated and will be removed after 2021-01-01.\n",
      "Instructions for updating:\n",
      "Please use instead:* `np.argmax(model.predict(x), axis=-1)`,   if your model does multi-class classification   (e.g. if it uses a `softmax` last-layer activation).* `(model.predict(x) > 0.5).astype(\"int32\")`,   if your model does binary classification   (e.g. if it uses a `sigmoid` last-layer activation).\n"
     ]
    },
    {
     "data": {
      "text/plain": [
       "array([2, 1, 4, 2, 5, 0, 9, 6, 8, 0, 3, 9, 9, 5, 8, 1, 2, 9, 2, 4, 0, 7,\n",
       "       3, 5, 9, 3, 7, 5, 1, 9, 5, 6, 9, 0, 5, 2, 1, 9, 9, 3, 6, 8, 2, 4,\n",
       "       9, 7, 9, 4, 4, 1, 3, 6, 0, 1, 2, 0, 2, 6, 4, 4, 4, 3, 7, 5, 1, 2,\n",
       "       7, 6, 2, 6, 3, 2, 9, 2, 8, 3, 8, 8, 5, 1, 7, 3, 8, 5, 3, 4, 4, 4,\n",
       "       3, 6, 3, 7, 2, 2, 2, 2, 0, 8, 9, 6, 7, 9, 1, 2, 7, 2, 9, 7, 8, 6,\n",
       "       0, 4, 5, 2, 9, 6, 8, 2, 7, 4, 0, 9, 5, 4, 6, 5, 3, 7, 8, 4, 6, 6,\n",
       "       1, 2, 1, 9, 2, 9, 0, 7, 1, 3, 3, 5, 9, 2, 1, 8, 5, 5, 2, 8, 6, 3,\n",
       "       9, 1, 8, 8, 9, 0, 3, 2, 2, 4, 3, 3, 0, 8, 5, 3, 0, 0, 7, 4, 5, 6,\n",
       "       2, 9, 1, 6, 6, 1, 3, 0, 3, 7, 6, 7, 4, 0, 8, 5, 1, 4, 0, 6, 4, 4,\n",
       "       9, 4, 2, 7, 2, 7, 7, 8, 1, 5, 9, 3, 8, 0, 0, 2, 6, 1, 3, 3, 3, 5,\n",
       "       5, 3, 9, 8, 4, 7, 3, 3, 9, 7, 4, 6, 7, 6, 9, 1, 0, 9, 9, 6, 8, 6,\n",
       "       3, 9, 6, 8, 5, 2, 3, 5, 7, 1, 7, 9, 0, 1, 9, 7, 2, 5, 8, 7, 9, 6,\n",
       "       4, 4, 9, 4, 0, 8, 9, 1, 6, 4, 6, 2, 2, 9, 1, 8, 4, 9, 9, 6, 7, 4,\n",
       "       2, 4, 0, 9, 1, 6, 4, 4, 2, 0, 6, 6, 3, 9, 2, 5, 1, 8, 8, 9, 9, 4,\n",
       "       1, 1, 7, 5, 9, 3, 9, 6, 5, 3, 5, 8, 0, 5, 5, 7, 2, 1, 3, 6, 1, 3,\n",
       "       6, 4, 7, 2, 6, 4, 0, 7, 0, 8, 9, 3, 8, 7, 3, 0, 0, 5, 6, 6, 8, 4,\n",
       "       0, 2, 8, 4, 1, 5, 3, 1, 0, 6, 8, 6, 5, 1, 7, 2, 9, 2, 6, 2, 4, 4,\n",
       "       7, 1, 2, 0, 7, 2, 8, 9, 4, 5, 2, 8, 3, 7, 0, 5, 1, 7, 8, 2, 1, 0,\n",
       "       4, 1, 5, 9, 6, 8, 2, 2, 3, 2, 4, 8, 3, 4, 4, 2, 2, 6, 4, 5, 7, 5,\n",
       "       8, 1, 3, 4, 3, 9, 1, 8, 5, 2, 9, 1, 0, 2, 5, 2, 1, 0, 8, 3, 0, 4,\n",
       "       9, 1, 0, 5, 1, 9, 7, 1, 5, 6, 7, 5, 3, 1, 5, 9, 1, 1, 1, 7, 0, 4,\n",
       "       7, 9, 1, 2, 0, 1, 1, 6, 0, 3, 1, 4, 7, 9, 3, 8, 0, 3, 1, 3, 0, 9,\n",
       "       0, 0, 3, 2, 2, 0, 5, 0, 0, 9, 2, 2, 4, 0, 7, 0, 6, 9, 7, 3, 4, 9,\n",
       "       1, 8, 4, 8, 2, 4, 0, 2, 0, 2, 7, 4, 6, 9, 6, 9, 9, 9, 8, 0, 2, 5,\n",
       "       2, 1, 8, 9, 4, 4, 1, 4, 2, 2, 3, 6, 6, 2, 6, 3, 8, 8, 9, 2, 8, 7,\n",
       "       2, 6, 1, 7, 3, 1, 7, 3, 7, 3, 5, 2, 2, 9, 1, 7, 2, 6, 3, 3, 2, 1,\n",
       "       3, 9, 7, 4, 9, 2, 8, 4, 7, 3, 7, 7, 9, 3, 3, 5, 9, 2, 4, 3, 1, 9,\n",
       "       3, 0, 9, 6, 5, 2, 0, 4, 3, 3, 7, 0, 5, 2, 2, 5, 7, 8, 6, 0, 1, 9,\n",
       "       5, 0, 8, 6, 8, 7, 5, 1, 1, 6, 7, 8, 9, 4, 8, 9, 0, 6, 0, 9, 5, 8,\n",
       "       2, 8, 7, 0, 6, 5, 6, 4, 7, 1, 9, 1, 4, 3, 4, 2, 3, 9, 4, 5, 8, 0,\n",
       "       6, 2, 2, 1, 4, 3, 7, 1, 3, 5, 4, 6, 4, 8, 1, 4, 4, 3, 8, 7, 2, 1,\n",
       "       9, 1, 5, 9, 6, 1, 3, 1, 8, 8, 5, 9, 4, 4, 5, 8, 8, 5, 5, 7, 7, 6,\n",
       "       8, 0, 5, 4, 7, 6, 6, 3, 7, 1, 8, 5, 2, 6, 3, 6, 5, 8, 9, 4, 4, 1,\n",
       "       8, 2, 1, 9, 3, 2, 7, 1, 7, 1, 8, 2, 5, 7, 6, 7, 9, 0, 5, 2, 1, 1,\n",
       "       5, 1, 6, 9, 0, 7, 6, 4, 2, 0, 1, 6, 5, 0, 8, 0, 1, 8, 8, 8, 5, 0,\n",
       "       0, 0, 9, 6, 2, 2, 0, 4, 9, 2, 0, 4, 7, 0, 1, 1, 6, 5, 8, 2, 9, 4,\n",
       "       7, 1, 2, 1, 7, 5, 2, 9, 1, 9, 7, 0, 7, 5, 4, 3, 7, 9, 7, 9, 9, 7,\n",
       "       9, 4, 1, 9, 1, 5, 6, 2, 5, 6, 2, 1, 2, 2, 5, 1, 9, 2, 7, 2, 4, 4,\n",
       "       2, 5, 4, 7, 8, 2, 5, 4, 6, 5, 5, 4, 3, 9, 3, 3, 2, 3, 4, 9, 4, 5,\n",
       "       7, 8, 7, 5, 4, 9, 1, 3, 6, 6, 4, 1, 5, 1, 4, 7, 5, 1, 5, 8, 2, 3,\n",
       "       6, 1, 3, 8, 5, 7, 1, 9, 1, 5, 2, 1, 3, 7, 1, 3, 9, 4, 9, 6, 6, 0,\n",
       "       7, 4, 5, 8, 2, 5, 0, 4, 2, 5, 3, 0, 3, 3, 5, 4, 9, 5, 8, 9, 2, 4,\n",
       "       2, 5, 6, 7, 2, 7, 7, 7, 8, 7, 0, 2, 9, 1, 6, 3, 4, 3, 1, 0, 3, 6,\n",
       "       3, 2, 5, 6, 7, 4, 6, 6, 1, 8, 8, 1, 4, 8, 8, 1, 9, 8, 3, 0, 6, 5,\n",
       "       3, 3, 7, 6, 6, 9, 1, 2, 6, 9, 1, 0, 7, 6, 7, 9, 5, 8, 9, 2, 7, 5,\n",
       "       6, 0, 9, 1, 6, 5, 0, 4, 7, 9], dtype=int64)"
      ]
     },
     "execution_count": 19,
     "metadata": {},
     "output_type": "execute_result"
    }
   ],
   "source": [
    "y_hat = model.predict_classes(x_test)\n",
    "y_hat"
   ]
  },
  {
   "cell_type": "code",
   "execution_count": 20,
   "metadata": {},
   "outputs": [
    {
     "data": {
      "text/plain": [
       "0.962"
      ]
     },
     "execution_count": 20,
     "metadata": {},
     "output_type": "execute_result"
    }
   ],
   "source": [
    "\n",
    "accuracy_score(y_test, y_hat)"
   ]
  },
  {
   "cell_type": "markdown",
   "metadata": {},
   "source": [
    "## Save model"
   ]
  },
  {
   "cell_type": "code",
   "execution_count": 22,
   "metadata": {},
   "outputs": [
    {
     "name": "stdout",
     "output_type": "stream",
     "text": [
      "INFO:tensorflow:Assets written to: Weights/test_tfmodel\\assets\n"
     ]
    }
   ],
   "source": [
    "model.save('Weights/test_tfmodel')"
   ]
  },
  {
   "cell_type": "markdown",
   "metadata": {},
   "source": [
    "## Load model"
   ]
  },
  {
   "cell_type": "code",
   "execution_count": 23,
   "metadata": {},
   "outputs": [],
   "source": [
    "model2 = load_model('Weights/test_tfmodel')"
   ]
  },
  {
   "cell_type": "code",
   "execution_count": 24,
   "metadata": {},
   "outputs": [
    {
     "data": {
      "text/plain": [
       "0.962"
      ]
     },
     "execution_count": 24,
     "metadata": {},
     "output_type": "execute_result"
    }
   ],
   "source": [
    "y_hat = model2.predict_classes(x_test)\n",
    "y_hat\n",
    "accuracy_score(y_test, y_hat)"
   ]
  }
 ],
 "metadata": {
  "interpreter": {
   "hash": "0b8a15cb922cf39be20a5a49d06f5fdad7776e1230178cb062c6fffa2c612ddc"
  },
  "kernelspec": {
   "display_name": "Python 3.7.11 ('ISTec')",
   "language": "python",
   "name": "python3"
  },
  "language_info": {
   "codemirror_mode": {
    "name": "ipython",
    "version": 3
   },
   "file_extension": ".py",
   "mimetype": "text/x-python",
   "name": "python",
   "nbconvert_exporter": "python",
   "pygments_lexer": "ipython3",
   "version": "3.7.11"
  },
  "orig_nbformat": 4
 },
 "nbformat": 4,
 "nbformat_minor": 2
}
